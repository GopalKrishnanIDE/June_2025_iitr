{
 "cells": [
  {
   "cell_type": "markdown",
   "metadata": {},
   "source": [
    "#### **Explanation:**\n",
    "\n",
    "When someone deposits or borrows money, the amount often grows over time due to *interest*. There are two common types of interest: **Simple Interest** and **Compound Interest**.\n",
    "\n",
    "In this exercise, we'll focus on **Simple Interest**.\n",
    "\n",
    "* **Principal (P):** The original amount of money deposited or borrowed.\n",
    "* **Rate of Interest (R):** The percentage charged or earned on the principal each year.\n",
    "* **Time (T):** The number of years the money is deposited or borrowed for.\n",
    "\n",
    "The formula to calculate **Simple Interest** is:\n",
    "\n",
    "```\n",
    "Interest = (Principal × Rate × Time) / 100\n",
    "```\n",
    "\n",
    "This gives us the amount of money earned or paid as interest after the given time."
   ]
  },
  {
   "cell_type": "markdown",
   "metadata": {},
   "source": [
    "#### **Problem Statement:**\n",
    "\n",
    "Write a function named `calculate_interest` that takes the following three arguments:\n",
    "\n",
    "* `principal` (amount of money deposited or borrowed),\n",
    "* `rate` (rate of interest per year, as a percentage),\n",
    "* `time` (duration in years),\n",
    "\n",
    "and returns the simple interest calculated using the formula above."
   ]
  },
  {
   "cell_type": "code",
   "execution_count": 7,
   "metadata": {},
   "outputs": [],
   "source": [
    "def calculate_interest(principal,rate,time):\n",
    "    interest = principal*rate*time*0.01\n",
    "    print(f\"Interest for the principal {principal}, rate {rate}, & time {time} is \")\n",
    "    return interest"
   ]
  },
  {
   "cell_type": "code",
   "execution_count": 8,
   "metadata": {},
   "outputs": [
    {
     "name": "stdout",
     "output_type": "stream",
     "text": [
      "Interest for the principal 1000, rate 5, & time 2 is \n"
     ]
    },
    {
     "data": {
      "text/plain": [
       "100.0"
      ]
     },
     "execution_count": 8,
     "metadata": {},
     "output_type": "execute_result"
    }
   ],
   "source": [
    "calculate_interest(1000,5,2)"
   ]
  },
  {
   "cell_type": "code",
   "execution_count": 9,
   "metadata": {},
   "outputs": [
    {
     "name": "stdout",
     "output_type": "stream",
     "text": [
      "Interest for the principal 1500, rate 4.3, & time 3 is \n"
     ]
    },
    {
     "data": {
      "text/plain": [
       "193.5"
      ]
     },
     "execution_count": 9,
     "metadata": {},
     "output_type": "execute_result"
    }
   ],
   "source": [
    "calculate_interest(1500,4.3,3)"
   ]
  },
  {
   "cell_type": "code",
   "execution_count": 10,
   "metadata": {},
   "outputs": [
    {
     "name": "stdout",
     "output_type": "stream",
     "text": [
      "Interest for the principal 500, rate 10, & time 0 is \n"
     ]
    },
    {
     "data": {
      "text/plain": [
       "0.0"
      ]
     },
     "execution_count": 10,
     "metadata": {},
     "output_type": "execute_result"
    }
   ],
   "source": [
    "calculate_interest(500,10,0)"
   ]
  },
  {
   "cell_type": "markdown",
   "metadata": {},
   "source": [
    "\n",
    "## Calculate Hypotense\n",
    "\n",
    "### 🧠 Topic: **Calculate Hypotenuse**\n",
    "\n",
    "#### 📘 Understanding the Terms (in simple language):\n",
    "\n",
    "When you have a right-angled triangle (a triangle where one of the angles is exactly 90 degrees), the longest side of the triangle is called the **hypotenuse**. It’s the side that is **opposite the right angle**.\n",
    "\n",
    "The other two sides (the ones that make the right angle) are usually called the **base** and the **height** (or **perpendicular**).\n",
    "\n",
    "To calculate the length of the hypotenuse, we use something called the **Pythagorean Theorem**.\n",
    "\n",
    "The formula is:\n",
    "\n",
    "```\n",
    "hypotenuse² = base² + height²\n",
    "```\n",
    "\n",
    "To find the hypotenuse, we need to take the square root of the sum of the squares of the base and height:\n",
    "\n",
    "```\n",
    "hypotenuse = √(base² + height²)"
   ]
  },
  {
   "cell_type": "markdown",
   "metadata": {},
   "source": [
    "# Geometric proof of pythagoreus theorem"
   ]
  },
  {
   "attachments": {
    "image.png": {
     "image/png": "[encoded data removed]"
    }
   },
   "cell_type": "markdown",
   "metadata": {},
   "source": [
    "![image.png](attachment:image.png)"
   ]
  },
  {
   "cell_type": "markdown",
   "metadata": {},
   "source": [
    "#### 🔧 Task:\n",
    "\n",
    "Write a function named `calculate_hypotenuse` that takes two arguments:\n",
    "\n",
    "* `base`: the length of the base (a number)\n",
    "* `height`: the length of the height/perpendicular side (a number)\n",
    "\n",
    "It should return the length of the hypotenuse (a number).\n",
    "\n",
    "Use the formula:\n",
    "\n",
    "```\n",
    "hypotenuse = (base² + height²) ** 0.5\n",
    "```\n"
   ]
  },
  {
   "cell_type": "code",
   "execution_count": 1,
   "metadata": {},
   "outputs": [],
   "source": [
    "def calculate_hypotenuse(base,height):\n",
    "    hypotenuse = (base**2 + height**2)**0.5\n",
    "    print(f\"For the base {base}, height {height}, Hypotenuse is \")\n",
    "    return hypotenuse"
   ]
  },
  {
   "cell_type": "code",
   "execution_count": 2,
   "metadata": {},
   "outputs": [
    {
     "name": "stdout",
     "output_type": "stream",
     "text": [
      "For the base 3, height 4, Hypotenuse is \n"
     ]
    },
    {
     "data": {
      "text/plain": [
       "5.0"
      ]
     },
     "execution_count": 2,
     "metadata": {},
     "output_type": "execute_result"
    }
   ],
   "source": [
    "calculate_hypotenuse(3,4)"
   ]
  },
  {
   "cell_type": "code",
   "execution_count": 3,
   "metadata": {},
   "outputs": [
    {
     "name": "stdout",
     "output_type": "stream",
     "text": [
      "For the base 5, height 12, Hypotenuse is \n"
     ]
    },
    {
     "data": {
      "text/plain": [
       "13.0"
      ]
     },
     "execution_count": 3,
     "metadata": {},
     "output_type": "execute_result"
    }
   ],
   "source": [
    "calculate_hypotenuse(5,12)"
   ]
  },
  {
   "cell_type": "code",
   "execution_count": 4,
   "metadata": {},
   "outputs": [
    {
     "name": "stdout",
     "output_type": "stream",
     "text": [
      "For the base 0, height 0, Hypotenuse is \n"
     ]
    },
    {
     "data": {
      "text/plain": [
       "0.0"
      ]
     },
     "execution_count": 4,
     "metadata": {},
     "output_type": "execute_result"
    }
   ],
   "source": [
    "calculate_hypotenuse(0,0)"
   ]
  },
  {
   "cell_type": "markdown",
   "metadata": {},
   "source": [
    "## Find Distance 2D\n",
    "\n",
    "**Topic:** *Find Distance in 2D*\n",
    "\n",
    "### 🧠 Explanation:\n",
    "\n",
    "In everyday life, when we move from one place to another, we cover a certain *distance*. In math, especially in geometry, we often want to calculate the distance between two points on a flat surface (called a 2D plane).\n",
    "\n",
    "Each point on this plane can be represented by two numbers:\n",
    "\n",
    "* the **x-coordinate** (horizontal position)\n",
    "* the **y-coordinate** (vertical position)\n",
    "\n",
    "Come up with the formula to calculate the distance between two points $(x1, y1)$ and $(x2, y2)$ based on the **Pythagorean Theorem**, just like finding the hypotenuse of a right triangle.\n",
    "\n",
    "---\n",
    "\n",
    "### ✍️ Exercise:\n",
    "\n",
    "Write a function `find_distance_2d(x1, y1, x2, y2)` that returns the distance between the two points. Use the formula mentioned above. You can use the `math.sqrt` function to calculate the square root."
   ]
  },
  {
   "cell_type": "code",
   "execution_count": 18,
   "metadata": {},
   "outputs": [],
   "source": [
    "def find_distance_2d(x1,y1,x2,y2):\n",
    "    if (x2 >x1):\n",
    "        Horizontal_distance = (x2-x1)\n",
    "    else:\n",
    "        Horizontal_distance = (x1-x2)\n",
    "    if (y2 >y1):\n",
    "        vertical_distance = (y2-y1)\n",
    "    else:\n",
    "        vertical_distance = y1-y2\n",
    "    print(f\"Horizontal distance :{Horizontal_distance}, Vertical distance {vertical_distance} :\")\n",
    "    distance = (Horizontal_distance**2+vertical_distance**2)**0.5\n",
    "    print(f\"2d Distance between these points is: \")\n",
    "    return distance\n"
   ]
  },
  {
   "cell_type": "code",
   "execution_count": 19,
   "metadata": {},
   "outputs": [
    {
     "name": "stdout",
     "output_type": "stream",
     "text": [
      "Horizontal distance :3, Vertical distance 4 :\n",
      "2d Distance between these points is: \n"
     ]
    },
    {
     "data": {
      "text/plain": [
       "5.0"
      ]
     },
     "execution_count": 19,
     "metadata": {},
     "output_type": "execute_result"
    }
   ],
   "source": [
    "find_distance_2d(0,0,3,4)"
   ]
  },
  {
   "cell_type": "code",
   "execution_count": 20,
   "metadata": {},
   "outputs": [
    {
     "name": "stdout",
     "output_type": "stream",
     "text": [
      "Horizontal distance :3, Vertical distance 4 :\n",
      "2d Distance between these points is: \n"
     ]
    },
    {
     "data": {
      "text/plain": [
       "5.0"
      ]
     },
     "execution_count": 20,
     "metadata": {},
     "output_type": "execute_result"
    }
   ],
   "source": [
    "find_distance(1,2,4,6)"
   ]
  },
  {
   "cell_type": "markdown",
   "metadata": {},
   "source": [
    "## Find Distance 3D\n",
    "\n",
    "**Topic:** *Find Distance in 3D*\n",
    "\n",
    "---\n",
    "\n",
    "### 🧠 **Explanation:**\n",
    "\n",
    "In everyday life, we often measure the distance between two points—like how far your house is from school. In **3D space**, we do the same, but we also consider height or depth in addition to length and width.\n",
    "\n",
    "A point in 3D space is defined using three coordinates:\n",
    "\n",
    "* `x` (horizontal)\n",
    "* `y` (vertical)\n",
    "* `z` (depth)\n",
    "\n",
    "To calculate the **distance between two points** in 3D, say:\n",
    "\n",
    "* Point A: `(x1, y1, z1)`\n",
    "* Point B: `(x2, y2, z2)`\n",
    "\n",
    "Come up with 3D distance formula using the Pythagorean theorem into three dimensions.\n",
    "\n",
    "---\n",
    "\n",
    "### 🧪 **Exercise:**\n",
    "\n",
    "Write a function called `calculate_distance_3d(x1, y1, z1, x2, y2, z2)` that returns the distance between two 3D points.\n",
    "\n",
    "* The function should return the result as a float.\n",
    "* You can use the built-in `math.sqrt()` function to calculate the square root."
   ]
  },
  {
   "cell_type": "code",
   "execution_count": 11,
   "metadata": {},
   "outputs": [],
   "source": [
    "import math\n",
    "def calculate_distance_3d(x1,y1,z1,x2,y2,z2):\n",
    "    if (x2>x1):\n",
    "        horizontal_dist = x2-x1\n",
    "    else :\n",
    "        horizontal_dist = x1-x2\n",
    "    if (y2>y1):\n",
    "        vertical_dist = y2-y1\n",
    "    else:\n",
    "        vertical_dist = y1-y2\n",
    "    if (z2>z1):\n",
    "        depth = z2-z1\n",
    "    else:\n",
    "        depth = z1-z2\n",
    "    diagonal_xy= math.sqrt((horizontal_dist**2+vertical_dist**2))\n",
    "    distance_3d=math.sqrt((depth**2+diagonal_xy**2))\n",
    "    print(f\" 3D distance between ({x1},{y1},{z1}) to ({x2},{y2},{z2}) is  \")\n",
    "    return distance_3d"
   ]
  },
  {
   "cell_type": "code",
   "execution_count": 12,
   "metadata": {},
   "outputs": [
    {
     "name": "stdout",
     "output_type": "stream",
     "text": [
      " 3D distance between (0,0,0) to (1,1,1) is  \n"
     ]
    },
    {
     "data": {
      "text/plain": [
       "1.7320508075688774"
      ]
     },
     "execution_count": 12,
     "metadata": {},
     "output_type": "execute_result"
    }
   ],
   "source": [
    "calculate_distance_3d(0,0,0,1,1,1)"
   ]
  },
  {
   "cell_type": "code",
   "execution_count": 13,
   "metadata": {},
   "outputs": [
    {
     "name": "stdout",
     "output_type": "stream",
     "text": [
      " 3D distance between (2,3,5) to (2,3,5) is  \n"
     ]
    },
    {
     "data": {
      "text/plain": [
       "0.0"
      ]
     },
     "execution_count": 13,
     "metadata": {},
     "output_type": "execute_result"
    }
   ],
   "source": [
    "calculate_distance_3d(2,3,5,2,3,5)"
   ]
  },
  {
   "cell_type": "code",
   "execution_count": 14,
   "metadata": {},
   "outputs": [
    {
     "name": "stdout",
     "output_type": "stream",
     "text": [
      " 3D distance between (1,2,3) to (4,6,9) is  \n"
     ]
    },
    {
     "data": {
      "text/plain": [
       "7.810249675906654"
      ]
     },
     "execution_count": 14,
     "metadata": {},
     "output_type": "execute_result"
    }
   ],
   "source": [
    "calculate_distance_3d(1,2,3,4,6,9)"
   ]
  },
  {
   "cell_type": "markdown",
   "metadata": {},
   "source": [
    "## Find Manhattan Distance\n",
    "\n",
    "### **Topic:** *Find Manhattan Distance*\n",
    "\n",
    "---\n",
    "\n",
    "### **Explanation:**\n",
    "\n",
    "When you want to measure the distance between two points on a grid (like in a city with square blocks), you don’t move diagonally. Instead, you move only **horizontally** and **vertically**, like a taxi driving along streets and avenues. This kind of distance is called the **Manhattan Distance**.\n",
    "\n",
    "The formula to calculate the Manhattan Distance between two points $(x1, y1)$ and $(x2, y2)$ is:\n",
    "\n",
    "$$\n",
    "\\text{Manhattan Distance} = |x1 - x2| + |y1 - y2|\n",
    "$$\n",
    "\n",
    "Here, $|a|$ means the absolute value of $a$ — in other words, how far the number is from zero.\n",
    "\n",
    "For example:\n",
    "\n",
    "* From (2, 3) to (5, 1):\n",
    "$|2 - 5| = 3$ and $|3 - 1| = 2$, so distance = $3 + 2 = 5$\n",
    "\n",
    "---\n",
    "\n",
    "### **Exercise:**\n",
    "\n",
    "Write a function `manhattan_distance(x1, y1, x2, y2)` that takes the coordinates of two points and returns their Manhattan Distance.\n",
    "\n",
    "---\n"
   ]
  },
  {
   "cell_type": "code",
   "execution_count": 18,
   "metadata": {},
   "outputs": [],
   "source": [
    "def manhattan_distance(x1,y1,x2,y2):\n",
    "    manhattan_x=x1-x2\n",
    "    if manhattan_x<0:\n",
    "        manhattan_x=manhattan_x*(-1)\n",
    "    manhattan_y=y1-y2\n",
    "    if manhattan_y<0:\n",
    "        manhattan_y=manhattan_y*(-1)\n",
    "    manhattan_dist=manhattan_x+manhattan_y\n",
    "    print(f\"Manhattan distance of |{x1}-{x2}|+|{y1}-{y2}| is \")\n",
    "    return manhattan_dist"
   ]
  },
  {
   "cell_type": "code",
   "execution_count": 19,
   "metadata": {},
   "outputs": [
    {
     "name": "stdout",
     "output_type": "stream",
     "text": [
      "Manhattan distance of |2-5|+|3-1| is \n"
     ]
    },
    {
     "data": {
      "text/plain": [
       "5"
      ]
     },
     "execution_count": 19,
     "metadata": {},
     "output_type": "execute_result"
    }
   ],
   "source": [
    "manhattan_distance(2,3,5,1)"
   ]
  },
  {
   "cell_type": "code",
   "execution_count": 20,
   "metadata": {},
   "outputs": [
    {
     "name": "stdout",
     "output_type": "stream",
     "text": [
      "Manhattan distance of |0-0|+|0-0| is \n"
     ]
    },
    {
     "data": {
      "text/plain": [
       "0"
      ]
     },
     "execution_count": 20,
     "metadata": {},
     "output_type": "execute_result"
    }
   ],
   "source": [
    "manhattan_distance(0,0,0,0)"
   ]
  },
  {
   "cell_type": "code",
   "execution_count": 21,
   "metadata": {},
   "outputs": [
    {
     "name": "stdout",
     "output_type": "stream",
     "text": [
      "Manhattan distance of |-1-1|+|-1-1| is \n"
     ]
    },
    {
     "data": {
      "text/plain": [
       "4"
      ]
     },
     "execution_count": 21,
     "metadata": {},
     "output_type": "execute_result"
    }
   ],
   "source": [
    "manhattan_distance(-1,-1,1,1)"
   ]
  },
  {
   "cell_type": "markdown",
   "metadata": {},
   "source": [
    "## Write a function to return value of y given x on a straight line in 2D. It should take three arguments: m, c, x. \n",
    "\n",
    "### **Topic:** *Predict Y on a Straight Line (2D)*\n",
    "\n",
    "---\n",
    "\n",
    "### **Simple Explanation:**\n",
    "\n",
    "In math, a straight line in 2D is usually written in this form:\n",
    "\n",
    "```\n",
    "y = m * x + c\n",
    "```\n",
    "\n",
    "Here’s what the terms mean:\n",
    "\n",
    "* `x` is the input (like a point on the horizontal axis).\n",
    "* `y` is the output (like a point on the vertical axis).\n",
    "* `m` is the *slope* of the line, which tells us how steep the line is.\n",
    "* `c` is the *intercept*, or where the line crosses the y-axis.\n",
    "\n",
    "For example:\n",
    "If `m = 2`, `c = 3`, and `x = 4`, then:\n",
    "\n",
    "```\n",
    "y = 2 * 4 + 3 = 8 + 3 = 11\n",
    "```\n",
    "\n",
    "So, the value of `y` is `11`.\n",
    "\n",
    "---\n",
    "\n",
    "### **Exercise:**\n",
    "\n",
    "Write a function `predict(m, c, x)` that returns the value of `y` based on the formula:\n",
    "\n",
    "```\n",
    "y = m * x + c\n",
    "```\n",
    "\n",
    "#### **Arguments:**\n",
    "\n",
    "* `m` – slope of the line (a number)\n",
    "* `c` – y-intercept of the line (a number)\n",
    "* `x` – the x-coordinate (a number)\n",
    "\n",
    "#### **Return:**\n",
    "\n",
    "* The value of `y` calculated from the formula `y = m * x + c`\n",
    "\n",
    "---\n"
   ]
  },
  {
   "cell_type": "code",
   "execution_count": 24,
   "metadata": {},
   "outputs": [],
   "source": [
    "def predict(m,c,x):\n",
    "    y=m*x + c\n",
    "    print(f\"the value of Y for m {m}, c{c}, x{x} which follows {m}*{x}+{c}=\")\n",
    "    return y"
   ]
  },
  {
   "cell_type": "code",
   "execution_count": 25,
   "metadata": {},
   "outputs": [
    {
     "name": "stdout",
     "output_type": "stream",
     "text": [
      "the value of Y for m 2, c3, x4 which follows 2*4+3=\n"
     ]
    },
    {
     "data": {
      "text/plain": [
       "11"
      ]
     },
     "execution_count": 25,
     "metadata": {},
     "output_type": "execute_result"
    }
   ],
   "source": [
    "predict(2,3,4)"
   ]
  },
  {
   "cell_type": "code",
   "execution_count": 27,
   "metadata": {},
   "outputs": [
    {
     "name": "stdout",
     "output_type": "stream",
     "text": [
      "the value of Y for m -1, c5, x2 which follows -1*2+5=\n"
     ]
    },
    {
     "data": {
      "text/plain": [
       "3"
      ]
     },
     "execution_count": 27,
     "metadata": {},
     "output_type": "execute_result"
    }
   ],
   "source": [
    "predict(-1,5,2)"
   ]
  },
  {
   "cell_type": "code",
   "execution_count": 30,
   "metadata": {},
   "outputs": [
    {
     "name": "stdout",
     "output_type": "stream",
     "text": [
      "the value of Y for m -1, c5, x-50 which follows -1*-50+5=\n",
      "55\n",
      "the value of Y for m -1, c5, x-49 which follows -1*-49+5=\n",
      "54\n",
      "the value of Y for m -1, c5, x-48 which follows -1*-48+5=\n",
      "53\n",
      "the value of Y for m -1, c5, x-47 which follows -1*-47+5=\n",
      "52\n",
      "the value of Y for m -1, c5, x-46 which follows -1*-46+5=\n",
      "51\n",
      "the value of Y for m -1, c5, x-45 which follows -1*-45+5=\n",
      "50\n",
      "the value of Y for m -1, c5, x-44 which follows -1*-44+5=\n",
      "49\n",
      "the value of Y for m -1, c5, x-43 which follows -1*-43+5=\n",
      "48\n",
      "the value of Y for m -1, c5, x-42 which follows -1*-42+5=\n",
      "47\n",
      "the value of Y for m -1, c5, x-41 which follows -1*-41+5=\n",
      "46\n",
      "the value of Y for m -1, c5, x-40 which follows -1*-40+5=\n",
      "45\n",
      "the value of Y for m -1, c5, x-39 which follows -1*-39+5=\n",
      "44\n",
      "the value of Y for m -1, c5, x-38 which follows -1*-38+5=\n",
      "43\n",
      "the value of Y for m -1, c5, x-37 which follows -1*-37+5=\n",
      "42\n",
      "the value of Y for m -1, c5, x-36 which follows -1*-36+5=\n",
      "41\n",
      "the value of Y for m -1, c5, x-35 which follows -1*-35+5=\n",
      "40\n",
      "the value of Y for m -1, c5, x-34 which follows -1*-34+5=\n",
      "39\n",
      "the value of Y for m -1, c5, x-33 which follows -1*-33+5=\n",
      "38\n",
      "the value of Y for m -1, c5, x-32 which follows -1*-32+5=\n",
      "37\n",
      "the value of Y for m -1, c5, x-31 which follows -1*-31+5=\n",
      "36\n",
      "the value of Y for m -1, c5, x-30 which follows -1*-30+5=\n",
      "35\n",
      "the value of Y for m -1, c5, x-29 which follows -1*-29+5=\n",
      "34\n",
      "the value of Y for m -1, c5, x-28 which follows -1*-28+5=\n",
      "33\n",
      "the value of Y for m -1, c5, x-27 which follows -1*-27+5=\n",
      "32\n",
      "the value of Y for m -1, c5, x-26 which follows -1*-26+5=\n",
      "31\n",
      "the value of Y for m -1, c5, x-25 which follows -1*-25+5=\n",
      "30\n",
      "the value of Y for m -1, c5, x-24 which follows -1*-24+5=\n",
      "29\n",
      "the value of Y for m -1, c5, x-23 which follows -1*-23+5=\n",
      "28\n",
      "the value of Y for m -1, c5, x-22 which follows -1*-22+5=\n",
      "27\n",
      "the value of Y for m -1, c5, x-21 which follows -1*-21+5=\n",
      "26\n",
      "the value of Y for m -1, c5, x-20 which follows -1*-20+5=\n",
      "25\n",
      "the value of Y for m -1, c5, x-19 which follows -1*-19+5=\n",
      "24\n",
      "the value of Y for m -1, c5, x-18 which follows -1*-18+5=\n",
      "23\n",
      "the value of Y for m -1, c5, x-17 which follows -1*-17+5=\n",
      "22\n",
      "the value of Y for m -1, c5, x-16 which follows -1*-16+5=\n",
      "21\n",
      "the value of Y for m -1, c5, x-15 which follows -1*-15+5=\n",
      "20\n",
      "the value of Y for m -1, c5, x-14 which follows -1*-14+5=\n",
      "19\n",
      "the value of Y for m -1, c5, x-13 which follows -1*-13+5=\n",
      "18\n",
      "the value of Y for m -1, c5, x-12 which follows -1*-12+5=\n",
      "17\n",
      "the value of Y for m -1, c5, x-11 which follows -1*-11+5=\n",
      "16\n",
      "the value of Y for m -1, c5, x-10 which follows -1*-10+5=\n",
      "15\n",
      "the value of Y for m -1, c5, x-9 which follows -1*-9+5=\n",
      "14\n",
      "the value of Y for m -1, c5, x-8 which follows -1*-8+5=\n",
      "13\n",
      "the value of Y for m -1, c5, x-7 which follows -1*-7+5=\n",
      "12\n",
      "the value of Y for m -1, c5, x-6 which follows -1*-6+5=\n",
      "11\n",
      "the value of Y for m -1, c5, x-5 which follows -1*-5+5=\n",
      "10\n",
      "the value of Y for m -1, c5, x-4 which follows -1*-4+5=\n",
      "9\n",
      "the value of Y for m -1, c5, x-3 which follows -1*-3+5=\n",
      "8\n",
      "the value of Y for m -1, c5, x-2 which follows -1*-2+5=\n",
      "7\n",
      "the value of Y for m -1, c5, x-1 which follows -1*-1+5=\n",
      "6\n",
      "the value of Y for m -1, c5, x0 which follows -1*0+5=\n",
      "5\n",
      "the value of Y for m -1, c5, x1 which follows -1*1+5=\n",
      "4\n",
      "the value of Y for m -1, c5, x2 which follows -1*2+5=\n",
      "3\n",
      "the value of Y for m -1, c5, x3 which follows -1*3+5=\n",
      "2\n",
      "the value of Y for m -1, c5, x4 which follows -1*4+5=\n",
      "1\n",
      "the value of Y for m -1, c5, x5 which follows -1*5+5=\n",
      "0\n",
      "the value of Y for m -1, c5, x6 which follows -1*6+5=\n",
      "-1\n",
      "the value of Y for m -1, c5, x7 which follows -1*7+5=\n",
      "-2\n",
      "the value of Y for m -1, c5, x8 which follows -1*8+5=\n",
      "-3\n",
      "the value of Y for m -1, c5, x9 which follows -1*9+5=\n",
      "-4\n",
      "the value of Y for m -1, c5, x10 which follows -1*10+5=\n",
      "-5\n",
      "the value of Y for m -1, c5, x11 which follows -1*11+5=\n",
      "-6\n",
      "the value of Y for m -1, c5, x12 which follows -1*12+5=\n",
      "-7\n",
      "the value of Y for m -1, c5, x13 which follows -1*13+5=\n",
      "-8\n",
      "the value of Y for m -1, c5, x14 which follows -1*14+5=\n",
      "-9\n",
      "the value of Y for m -1, c5, x15 which follows -1*15+5=\n",
      "-10\n",
      "the value of Y for m -1, c5, x16 which follows -1*16+5=\n",
      "-11\n",
      "the value of Y for m -1, c5, x17 which follows -1*17+5=\n",
      "-12\n",
      "the value of Y for m -1, c5, x18 which follows -1*18+5=\n",
      "-13\n",
      "the value of Y for m -1, c5, x19 which follows -1*19+5=\n",
      "-14\n",
      "the value of Y for m -1, c5, x20 which follows -1*20+5=\n",
      "-15\n",
      "the value of Y for m -1, c5, x21 which follows -1*21+5=\n",
      "-16\n",
      "the value of Y for m -1, c5, x22 which follows -1*22+5=\n",
      "-17\n",
      "the value of Y for m -1, c5, x23 which follows -1*23+5=\n",
      "-18\n",
      "the value of Y for m -1, c5, x24 which follows -1*24+5=\n",
      "-19\n",
      "the value of Y for m -1, c5, x25 which follows -1*25+5=\n",
      "-20\n",
      "the value of Y for m -1, c5, x26 which follows -1*26+5=\n",
      "-21\n",
      "the value of Y for m -1, c5, x27 which follows -1*27+5=\n",
      "-22\n",
      "the value of Y for m -1, c5, x28 which follows -1*28+5=\n",
      "-23\n",
      "the value of Y for m -1, c5, x29 which follows -1*29+5=\n",
      "-24\n",
      "the value of Y for m -1, c5, x30 which follows -1*30+5=\n",
      "-25\n",
      "the value of Y for m -1, c5, x31 which follows -1*31+5=\n",
      "-26\n",
      "the value of Y for m -1, c5, x32 which follows -1*32+5=\n",
      "-27\n",
      "the value of Y for m -1, c5, x33 which follows -1*33+5=\n",
      "-28\n",
      "the value of Y for m -1, c5, x34 which follows -1*34+5=\n",
      "-29\n",
      "the value of Y for m -1, c5, x35 which follows -1*35+5=\n",
      "-30\n",
      "the value of Y for m -1, c5, x36 which follows -1*36+5=\n",
      "-31\n",
      "the value of Y for m -1, c5, x37 which follows -1*37+5=\n",
      "-32\n",
      "the value of Y for m -1, c5, x38 which follows -1*38+5=\n",
      "-33\n",
      "the value of Y for m -1, c5, x39 which follows -1*39+5=\n",
      "-34\n",
      "the value of Y for m -1, c5, x40 which follows -1*40+5=\n",
      "-35\n",
      "the value of Y for m -1, c5, x41 which follows -1*41+5=\n",
      "-36\n",
      "the value of Y for m -1, c5, x42 which follows -1*42+5=\n",
      "-37\n",
      "the value of Y for m -1, c5, x43 which follows -1*43+5=\n",
      "-38\n",
      "the value of Y for m -1, c5, x44 which follows -1*44+5=\n",
      "-39\n",
      "the value of Y for m -1, c5, x45 which follows -1*45+5=\n",
      "-40\n",
      "the value of Y for m -1, c5, x46 which follows -1*46+5=\n",
      "-41\n",
      "the value of Y for m -1, c5, x47 which follows -1*47+5=\n",
      "-42\n",
      "the value of Y for m -1, c5, x48 which follows -1*48+5=\n",
      "-43\n",
      "the value of Y for m -1, c5, x49 which follows -1*49+5=\n",
      "-44\n",
      "the value of Y for m -1, c5, x50 which follows -1*50+5=\n",
      "-45\n"
     ]
    }
   ],
   "source": [
    "for i in range(-50,51):\n",
    "    output=predict(-1,5,i)\n",
    "    print(output)"
   ]
  },
  {
   "attachments": {
    "image.png": {
     "image/png": "[encoded data removed]"
    }
   },
   "cell_type": "markdown",
   "metadata": {},
   "source": [
    "![image.png](attachment:image.png)"
   ]
  },
  {
   "cell_type": "markdown",
   "metadata": {},
   "source": [
    "## Given two points, write a function fit() to learn slope and intercept of the line going through them\n",
    "\n",
    "### **Topic:** *Learn Line Equation from Two Points*\n",
    "\n",
    "### **Explanation:**\n",
    "\n",
    "A straight line in a 2D plane can be described by the equation:\n",
    "\n",
    "$$\n",
    "y = mx + c\n",
    "$$\n",
    "\n",
    "Where:\n",
    "\n",
    "* `m` is the **slope** of the line.\n",
    "* `c` is the **intercept** — the value of `y` when `x = 0`.\n",
    "\n",
    "If you're given **two points** on the line, say `(x1, y1)` and `(x2, y2)`, you can calculate the **slope** `m` like this:\n",
    "\n",
    "$$\n",
    "m = \\frac{y2 - y1}{x2 - x1}\n",
    "$$\n",
    "\n",
    "Once you have the slope, you can use one of the points (say `(x1, y1)`) to calculate the intercept `c` using:\n",
    "\n",
    "$$\n",
    "c = y1 - m \\times x1\n",
    "$$\n",
    "\n",
    "For example, if your two points are (1, 2) and (3, 6):\n",
    "\n",
    "* Slope: `(6 - 2)/(3 - 1) = 4/2 = 2`\n",
    "* Intercept: `2 - (2 × 1) = 0`\n",
    "* So, the equation of the line is: `y = 2x + 0`\n",
    "\n",
    "---\n",
    "\n",
    "### **Exercise:**\n",
    "\n",
    "Write a function `fit(x1, y1, x2, y2)` that returns a tuple `(m, c)` representing the slope and intercept of the line passing through the two points `(x1, y1)` and `(x2, y2)`.\n",
    "\n",
    "---\n",
    "\n",
    "### **Function Signature:**\n",
    "\n",
    "```python\n",
    "def fit(x1, y1, x2, y2):\n",
    "    # Your code here\n",
    "```\n",
    "\n",
    "---\n"
   ]
  },
  {
   "cell_type": "code",
   "execution_count": 36,
   "metadata": {},
   "outputs": [],
   "source": [
    "def fit(x1,y1,x2,y2):\n",
    "    m=(y2-y1)/(x2-x1)\n",
    "    c=y1-m*(x1)\n",
    "    print(f\"Slope m and intercept c for the points {x1},{y1},{x2},{y2} is \" )\n",
    "    return (m,c)"
   ]
  },
  {
   "cell_type": "code",
   "execution_count": 37,
   "metadata": {},
   "outputs": [
    {
     "name": "stdout",
     "output_type": "stream",
     "text": [
      "Slope m and intercept c for the points 1,2,3,6 is \n"
     ]
    },
    {
     "data": {
      "text/plain": [
       "(2.0, 0.0)"
      ]
     },
     "execution_count": 37,
     "metadata": {},
     "output_type": "execute_result"
    }
   ],
   "source": [
    "fit(1,2,3,6)"
   ]
  },
  {
   "cell_type": "code",
   "execution_count": 38,
   "metadata": {},
   "outputs": [
    {
     "name": "stdout",
     "output_type": "stream",
     "text": [
      "Slope m and intercept c for the points 0,5,2,9 is \n"
     ]
    },
    {
     "data": {
      "text/plain": [
       "(2.0, 5.0)"
      ]
     },
     "execution_count": 38,
     "metadata": {},
     "output_type": "execute_result"
    }
   ],
   "source": [
    "fit(0,5,2,9)"
   ]
  },
  {
   "cell_type": "markdown",
   "metadata": {},
   "source": [
    "## find first derivate of a function that takes only one argument. \n",
    "\n",
    "### **Topic:** *Find First Derivative of a Function*\n",
    "\n",
    "#### **Simple Explanation:**\n",
    "\n",
    "In mathematics, the *derivative* of a function tells us how fast the function's value is changing at a particular point.\n",
    "\n",
    "Think of it like this: if you’re driving a car and your distance changes every second, then your speed is the derivative of your distance. Similarly, for any function, the derivative gives the *rate of change*.\n",
    "\n",
    "We’ll use a simple numerical technique called the **difference method**:\n",
    "\n",
    "$$\n",
    "f'(x) \\approx \\frac{f(x + h) - f(x)}{h}\n",
    "$$\n",
    "\n",
    "This is called the **forward difference method**, where `h` is a very small number.\n",
    "\n",
    "---\n",
    "\n",
    "### **Exercise:**\n",
    "\n",
    "Write a function `approx_derivative(func, x, h)` that:\n",
    "\n",
    "* Takes a function `func` that accepts a single argument,\n",
    "* A value `x` where we want to find the derivative,\n",
    "* And a small number `h` (like `0.0001`),\n",
    "* Returns the approximate derivative of `func` at `x`.\n",
    "\n",
    "---\n",
    "\n",
    "### **Example Usage:**\n",
    "\n",
    "```python\n",
    "def square(x):\n",
    "    return x * x\n",
    "\n",
    "def cube(x):\n",
    "    return x * x * x\n",
    "\n",
    "print(approx_derivative(square, 3, 0.0001))  # Output: Approx. 6\n",
    "print(approx_derivative(cube, 2, 0.0001))    # Output: Approx. 12\n",
    "```\n",
    "\n",
    "---\n",
    "\n",
    "### **Note to Learner:**\n",
    "\n",
    "Try different values of `x` and different functions (like `math.sin`, `math.exp`, etc.) to see how the derivative changes.\n",
    "\n",
    "Make sure to import any libraries (like `math`) if needed."
   ]
  },
  {
   "cell_type": "code",
   "execution_count": 4,
   "metadata": {},
   "outputs": [],
   "source": [
    "def square(x):\n",
    "    return x*x"
   ]
  },
  {
   "cell_type": "code",
   "execution_count": 5,
   "metadata": {},
   "outputs": [],
   "source": [
    "def cube(x):\n",
    "    return x*x*x"
   ]
  },
  {
   "cell_type": "code",
   "execution_count": 6,
   "metadata": {},
   "outputs": [],
   "source": [
    "def approx_derivative(func,x,h):\n",
    "    der_func=(func(x+h)-func(x))/h\n",
    "    print(f\"Derivative of func{func} of {x} is :\")\n",
    "    return der_func"
   ]
  },
  {
   "cell_type": "code",
   "execution_count": 7,
   "metadata": {},
   "outputs": [
    {
     "name": "stdout",
     "output_type": "stream",
     "text": [
      "Derivative of func<function square at 0x7f0654214bf8> of 3 is :\n"
     ]
    },
    {
     "data": {
      "text/plain": [
       "6.000100000012054"
      ]
     },
     "execution_count": 7,
     "metadata": {},
     "output_type": "execute_result"
    }
   ],
   "source": [
    "approx_derivative(square, 3, 0.0001)"
   ]
  },
  {
   "cell_type": "code",
   "execution_count": 8,
   "metadata": {},
   "outputs": [
    {
     "name": "stdout",
     "output_type": "stream",
     "text": [
      "Derivative of func<function cube at 0x7f0654214730> of 2 is :\n",
      "12.000600010022566\n"
     ]
    }
   ],
   "source": [
    "print(approx_derivative(cube, 2, 0.0001))"
   ]
  },
  {
   "cell_type": "code",
   "execution_count": 9,
   "metadata": {},
   "outputs": [
    {
     "name": "stdout",
     "output_type": "stream",
     "text": [
      "Derivative of func<built-in function sin> of 90 is :\n"
     ]
    },
    {
     "data": {
      "text/plain": [
       "-0.4481183152305057"
      ]
     },
     "execution_count": 9,
     "metadata": {},
     "output_type": "execute_result"
    }
   ],
   "source": [
    "import math\n",
    "approx_derivative(math.sin, 90, 0.0001)"
   ]
  },
  {
   "cell_type": "code",
   "execution_count": 10,
   "metadata": {},
   "outputs": [
    {
     "name": "stdout",
     "output_type": "stream",
     "text": [
      "Derivative of func<built-in function exp> of 90 is :\n"
     ]
    },
    {
     "data": {
      "text/plain": [
       "1.2204643165570223e+39"
      ]
     },
     "execution_count": 10,
     "metadata": {},
     "output_type": "execute_result"
    }
   ],
   "source": [
    "import math\n",
    "approx_derivative(math.exp, 90, 0.0001)"
   ]
  },
  {
   "cell_type": "code",
   "execution_count": 11,
   "metadata": {},
   "outputs": [
    {
     "name": "stdout",
     "output_type": "stream",
     "text": [
      "Derivative of func<built-in function log> of 90 is :\n"
     ]
    },
    {
     "data": {
      "text/plain": [
       "0.011111104942784777"
      ]
     },
     "execution_count": 11,
     "metadata": {},
     "output_type": "execute_result"
    }
   ],
   "source": [
    "approx_derivative(math.log, 90, 0.0001)"
   ]
  },
  {
   "cell_type": "code",
   "execution_count": 16,
   "metadata": {},
   "outputs": [],
   "source": []
  },
  {
   "cell_type": "code",
   "execution_count": 17,
   "metadata": {},
   "outputs": [
    {
     "data": {
      "text/plain": [
       "0.011111104942784777"
      ]
     },
     "execution_count": 17,
     "metadata": {},
     "output_type": "execute_result"
    }
   ],
   "source": []
  },
  {
   "cell_type": "code",
   "execution_count": 75,
   "metadata": {},
   "outputs": [],
   "source": [
    "\n",
    "    "
   ]
  }
 ],
 "metadata": {
  "kernelspec": {
   "display_name": "Python 3",
   "language": "python",
   "name": "python3"
  },
  "language_info": {
   "codemirror_mode": {
    "name": "ipython",
    "version": 3
   },
   "file_extension": ".py",
   "mimetype": "text/x-python",
   "name": "python",
   "nbconvert_exporter": "python",
   "pygments_lexer": "ipython3",
   "version": "3.6.8"
  },
  "toc": {
   "base_numbering": 1,
   "nav_menu": {},
   "number_sections": true,
   "sideBar": true,
   "skip_h1_title": false,
   "title_cell": "Table of Contents",
   "title_sidebar": "Contents",
   "toc_cell": false,
   "toc_position": {},
   "toc_section_display": true,
   "toc_window_display": false
  }
 },
 "nbformat": 4,
 "nbformat_minor": 2
}

{
 "cells": [
  {
   "cell_type": "markdown",
   "metadata": {},
   "source": [
    "## Huber Distance\n",
    "---\n",
    "\n",
    "### **Topic:** *Compute Huber Distance*\n",
    "\n",
    "---\n",
    "\n",
    "### **Explanation:**\n",
    "\n",
    "In machine learning and statistics, **Huber distance** is a special way of measuring the error between two values — typically the *actual* and the *predicted*. It’s designed to be *less sensitive to outliers* than the usual squared error.\n",
    "\n",
    "The idea is simple:\n",
    "\n",
    "* If the difference between the actual and predicted value is **small**, we treat the error like **squared error**.\n",
    "* If the difference is **large**, we treat it more like **absolute error**.\n",
    "\n",
    "The point where we switch between these two behaviors is decided by a value called **delta**.\n",
    "\n",
    "To compute the Huber distance:\n",
    "\n",
    "1. First, find the **error** by subtracting the predicted value from the actual value.\n",
    "2. If the absolute value of the error is **less than or equal to delta**, use the squared error formula.\n",
    "3. Otherwise, use a modified absolute error formula that uses delta."
   ]
  },
  {
   "cell_type": "markdown",
   "metadata": {},
   "source": [
    "### **Exercise:**\n",
    "\n",
    "Write a function named `compute_huber_distance(actual, predicted, delta)` that:\n",
    "\n",
    "* Takes three arguments:\n",
    "\n",
    "* `actual`: the true value (a number)\n",
    "* `predicted`: the predicted value (a number)\n",
    "* `delta`: the threshold that decides when to switch error formulas\n",
    "* Returns the Huber distance between the actual and predicted value using the rules described above."
   ]
  },
  {
   "cell_type": "code",
   "execution_count": 17,
   "metadata": {},
   "outputs": [],
   "source": [
    "def compute_huber_distance(actual,predicted,delta):\n",
    "    error=actual - predicted\n",
    "    if error <0:\n",
    "        error*=-1\n",
    "    print(error)\n",
    "    if (error<=delta):\n",
    "        huber_distance= 0.5*(error**2)\n",
    "        print(\"YYY\")\n",
    "    else:\n",
    "        huber_distance=delta*(error-(0.5*delta))\n",
    "        print(\"XXX\")\n",
    "    \n",
    "    return huber_distance\n"
   ]
  },
  {
   "cell_type": "code",
   "execution_count": 18,
   "metadata": {},
   "outputs": [
    {
     "name": "stdout",
     "output_type": "stream",
     "text": [
      "2\n",
      "XXX\n"
     ]
    },
    {
     "data": {
      "text/plain": [
       "1.875"
      ]
     },
     "execution_count": 18,
     "metadata": {},
     "output_type": "execute_result"
    }
   ],
   "source": [
    "compute_huber_distance(10,8,1.5)"
   ]
  },
  {
   "cell_type": "code",
   "execution_count": 19,
   "metadata": {},
   "outputs": [
    {
     "name": "stdout",
     "output_type": "stream",
     "text": [
      "0.5\n",
      "YYY\n"
     ]
    },
    {
     "data": {
      "text/plain": [
       "0.125"
      ]
     },
     "execution_count": 19,
     "metadata": {},
     "output_type": "execute_result"
    }
   ],
   "source": [
    "compute_huber_distance(10,9.5,1.5)"
   ]
  },
  {
   "cell_type": "code",
   "execution_count": 20,
   "metadata": {},
   "outputs": [
    {
     "name": "stdout",
     "output_type": "stream",
     "text": [
      "0\n",
      "YYY\n"
     ]
    },
    {
     "data": {
      "text/plain": [
       "0.0"
      ]
     },
     "execution_count": 20,
     "metadata": {},
     "output_type": "execute_result"
    }
   ],
   "source": [
    "compute_huber_distance(5,5,1)"
   ]
  },
  {
   "cell_type": "code",
   "execution_count": 26,
   "metadata": {},
   "outputs": [
    {
     "name": "stdout",
     "output_type": "stream",
     "text": [
      "60\n",
      "XXX\n",
      "59\n",
      "XXX\n",
      "58\n",
      "XXX\n",
      "57\n",
      "XXX\n",
      "56\n",
      "XXX\n",
      "55\n",
      "XXX\n",
      "54\n",
      "XXX\n",
      "53\n",
      "XXX\n",
      "52\n",
      "XXX\n",
      "51\n",
      "XXX\n",
      "50\n",
      "XXX\n",
      "49\n",
      "XXX\n",
      "48\n",
      "XXX\n",
      "47\n",
      "XXX\n",
      "46\n",
      "XXX\n",
      "45\n",
      "XXX\n",
      "44\n",
      "XXX\n",
      "43\n",
      "XXX\n",
      "42\n",
      "XXX\n",
      "41\n",
      "XXX\n",
      "40\n",
      "XXX\n",
      "39\n",
      "XXX\n",
      "38\n",
      "XXX\n",
      "37\n",
      "XXX\n",
      "36\n",
      "XXX\n",
      "35\n",
      "XXX\n",
      "34\n",
      "XXX\n",
      "33\n",
      "XXX\n",
      "32\n",
      "XXX\n",
      "31\n",
      "XXX\n",
      "30\n",
      "XXX\n",
      "29\n",
      "XXX\n",
      "28\n",
      "XXX\n",
      "27\n",
      "XXX\n",
      "26\n",
      "XXX\n",
      "25\n",
      "XXX\n",
      "24\n",
      "XXX\n",
      "23\n",
      "XXX\n",
      "22\n",
      "XXX\n",
      "21\n",
      "XXX\n",
      "20\n",
      "XXX\n",
      "19\n",
      "XXX\n",
      "18\n",
      "XXX\n",
      "17\n",
      "XXX\n",
      "16\n",
      "XXX\n",
      "15\n",
      "XXX\n",
      "14\n",
      "XXX\n",
      "13\n",
      "XXX\n",
      "12\n",
      "XXX\n",
      "11\n",
      "XXX\n",
      "10\n",
      "XXX\n",
      "9\n",
      "XXX\n",
      "8\n",
      "XXX\n",
      "7\n",
      "XXX\n",
      "6\n",
      "XXX\n",
      "5\n",
      "XXX\n",
      "4\n",
      "XXX\n",
      "3\n",
      "XXX\n",
      "2\n",
      "XXX\n",
      "1\n",
      "YYY\n",
      "0\n",
      "YYY\n",
      "1\n",
      "YYY\n",
      "2\n",
      "XXX\n",
      "3\n",
      "XXX\n",
      "4\n",
      "XXX\n",
      "5\n",
      "XXX\n",
      "6\n",
      "XXX\n",
      "7\n",
      "XXX\n",
      "8\n",
      "XXX\n",
      "9\n",
      "XXX\n",
      "10\n",
      "XXX\n",
      "11\n",
      "XXX\n",
      "12\n",
      "XXX\n",
      "13\n",
      "XXX\n",
      "14\n",
      "XXX\n",
      "15\n",
      "XXX\n",
      "16\n",
      "XXX\n",
      "17\n",
      "XXX\n",
      "18\n",
      "XXX\n",
      "19\n",
      "XXX\n",
      "20\n",
      "XXX\n",
      "21\n",
      "XXX\n",
      "22\n",
      "XXX\n",
      "23\n",
      "XXX\n",
      "24\n",
      "XXX\n",
      "25\n",
      "XXX\n",
      "26\n",
      "XXX\n",
      "27\n",
      "XXX\n",
      "28\n",
      "XXX\n",
      "29\n",
      "XXX\n",
      "30\n",
      "XXX\n",
      "31\n",
      "XXX\n",
      "32\n",
      "XXX\n",
      "33\n",
      "XXX\n",
      "34\n",
      "XXX\n",
      "35\n",
      "XXX\n",
      "36\n",
      "XXX\n",
      "37\n",
      "XXX\n",
      "38\n",
      "XXX\n",
      "39\n",
      "XXX\n"
     ]
    }
   ],
   "source": [
    "for i in range (-50,50):\n",
    "    compute_huber_distance(10,i,1.5)"
   ]
  },
  {
   "cell_type": "code",
   "execution_count": null,
   "metadata": {},
   "outputs": [],
   "source": []
  }
 ],
 "metadata": {
  "kernelspec": {
   "display_name": "Python 3",
   "language": "python",
   "name": "python3"
  },
  "language_info": {
   "codemirror_mode": {
    "name": "ipython",
    "version": 3
   },
   "file_extension": ".py",
   "mimetype": "text/x-python",
   "name": "python",
   "nbconvert_exporter": "python",
   "pygments_lexer": "ipython3",
   "version": "3.6.8"
  },
  "toc": {
   "base_numbering": 1,
   "nav_menu": {},
   "number_sections": true,
   "sideBar": true,
   "skip_h1_title": false,
   "title_cell": "Table of Contents",
   "title_sidebar": "Contents",
   "toc_cell": false,
   "toc_position": {},
   "toc_section_display": true,
   "toc_window_display": false
  }
 },
 "nbformat": 4,
 "nbformat_minor": 2
}

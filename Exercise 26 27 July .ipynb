{
 "cells": [
  {
   "cell_type": "markdown",
   "metadata": {},
   "source": [
    "#  Huber Distance\n",
    "1.1  Topic: Compute Huber Distance\n",
    "1.2  Explanation:\n",
    "In machine learning and statistics, Huber distance is a special way of measuring the error between two values — typically the actual and the predicted. It’s designed to be less sensitive to outliers than the usual squared error.\n",
    "\n",
    "The idea is simple:\n",
    "\n",
    "If the difference between the actual and predicted value is small, we treat the error like squared error.\n",
    "If the difference is large, we treat it more like absolute error.\n",
    "The point where we switch between these two behaviors is decided by a value called delta.\n",
    "\n",
    "To compute the Huber distance:\n",
    "\n",
    "First, find the error by subtracting the predicted value from the actual value.\n",
    "If the absolute value of the error is less than or equal to delta, use the squared error formula.\n",
    "Otherwise, use a modified absolute error formula that uses delta."
   ]
  },
  {
   "cell_type": "markdown",
   "metadata": {},
   "source": [
    "1.3  Exercise:\n",
    "Write a function named compute_huber_distance(actual, predicted, delta) that:\n",
    "\n",
    "Takes three arguments:\n",
    "\n",
    "actual: the true value (a number)\n",
    "\n",
    "predicted: the predicted value (a number)\n",
    "\n",
    "delta: the threshold that decides when to switch error formulas\n",
    "\n",
    "Returns the Huber distance between the actual and predicted value using the rules described above."
   ]
  },
  {
   "cell_type": "code",
   "execution_count": 5,
   "metadata": {},
   "outputs": [],
   "source": [
    "def compute_huber_distance(actual,predicted,delta):\n",
    "    error=actual - predicted\n",
    "    if error <0:\n",
    "        error*=-1\n",
    " \n",
    "    if (error<=delta):\n",
    "        huber_distance= (error**2)\n",
    "        \n",
    "    else:\n",
    "        huber_distance=(error)\n",
    "        \n",
    "    \n",
    "    return huber_distance"
   ]
  },
  {
   "cell_type": "code",
   "execution_count": 6,
   "metadata": {},
   "outputs": [
    {
     "data": {
      "text/plain": [
       "2"
      ]
     },
     "execution_count": 6,
     "metadata": {},
     "output_type": "execute_result"
    }
   ],
   "source": [
    "compute_huber_distance(10,8,1.5)"
   ]
  },
  {
   "cell_type": "code",
   "execution_count": 7,
   "metadata": {},
   "outputs": [
    {
     "data": {
      "text/plain": [
       "0.25"
      ]
     },
     "execution_count": 7,
     "metadata": {},
     "output_type": "execute_result"
    }
   ],
   "source": [
    "compute_huber_distance(10,9.5,1.5)"
   ]
  },
  {
   "cell_type": "code",
   "execution_count": 8,
   "metadata": {},
   "outputs": [
    {
     "data": {
      "text/plain": [
       "0"
      ]
     },
     "execution_count": 8,
     "metadata": {},
     "output_type": "execute_result"
    }
   ],
   "source": [
    "compute_huber_distance(5,5,1)"
   ]
  },
  {
   "cell_type": "markdown",
   "metadata": {},
   "source": [
    "## Check if a point P is closer to point A or point B in 2D\n",
    "\n",
    "### **Topic:** *Check if a Point is Closer to A or B in 2D*\n",
    "\n",
    "### **Explanation:**\n",
    "\n",
    "In a 2D plane, a **point** is defined by its coordinates, usually written as (x, y). The **distance** between two points tells us how far apart they are.\n",
    "\n",
    "For example, if we have:\n",
    "\n",
    "* Point A = (x₁, y₁)\n",
    "* Point B = (x₂, y₂)\n",
    "* Point P = (x, y)\n",
    "\n",
    "We want to find out which point — A or B — is **closer** to point P.\n",
    "\n",
    "To figure this out, we calculate the distance from P to both A and B and then compare them. You don't need to use square roots — just compare the **squared distances** (it’s faster and gives the same result for comparison).\n",
    "\n",
    "---\n",
    "\n",
    "### **Exercise:**\n",
    "\n",
    "Write a function `closer_point(p, a, b)` that takes:\n",
    "\n",
    "* `p`: a tuple representing the coordinates of point P\n",
    "* `a`: a tuple representing the coordinates of point A\n",
    "* `b`: a tuple representing the coordinates of point B\n",
    "\n",
    "The function should return:\n",
    "\n",
    "* `'A'` if P is closer to A\n",
    "* `'B'` if P is closer to B\n",
    "* `'Equal'` if the distances are the same\n",
    "\n",
    "---"
   ]
  },
  {
   "cell_type": "code",
   "execution_count": 1,
   "metadata": {},
   "outputs": [],
   "source": [
    "def closer_point(p,a,b):\n",
    "    x1,y1 = a\n",
    "    x2,y2 = b\n",
    "    x,y = p\n",
    "    sq_dist_ap = (x1-x)**2+(y1-y)**2\n",
    "    sq_dist_bp = (x2-x)**2+(y2-y)**2\n",
    "    if (sq_dist_ap == sq_dist_bp):\n",
    "        print(f\"P {p} is equi distant from a: {a} & b: {b}\")\n",
    "        return \"Equal\"\n",
    "    elif (sq_dist_ap < sq_dist_bp):\n",
    "        print(f\"P {p} is closer to a {a}\")\n",
    "        return \"A\"\n",
    "    else:\n",
    "        print(f\"P {p} is closer to b {b}\")\n",
    "        return \"B\"\n",
    "    "
   ]
  },
  {
   "cell_type": "code",
   "execution_count": 2,
   "metadata": {},
   "outputs": [
    {
     "name": "stdout",
     "output_type": "stream",
     "text": [
      "P (1, 2) is closer to a (0, 0)\n"
     ]
    },
    {
     "data": {
      "text/plain": [
       "'A'"
      ]
     },
     "execution_count": 2,
     "metadata": {},
     "output_type": "execute_result"
    }
   ],
   "source": [
    "closer_point((1, 2), (0, 0), (5, 5))"
   ]
  },
  {
   "cell_type": "code",
   "execution_count": 3,
   "metadata": {},
   "outputs": [
    {
     "name": "stdout",
     "output_type": "stream",
     "text": [
      "P (4, 4) is equi distant from a: (0, 0) & b: (8, 8)\n"
     ]
    },
    {
     "data": {
      "text/plain": [
       "'Equal'"
      ]
     },
     "execution_count": 3,
     "metadata": {},
     "output_type": "execute_result"
    }
   ],
   "source": [
    "closer_point((4, 4), (0, 0), (8, 8))"
   ]
  },
  {
   "cell_type": "code",
   "execution_count": 4,
   "metadata": {},
   "outputs": [
    {
     "name": "stdout",
     "output_type": "stream",
     "text": [
      "P (7, 3) is closer to b (10, 3)\n"
     ]
    },
    {
     "data": {
      "text/plain": [
       "'B'"
      ]
     },
     "execution_count": 4,
     "metadata": {},
     "output_type": "execute_result"
    }
   ],
   "source": [
    "closer_point((7, 3), (2, 3), (10, 3)) "
   ]
  },
  {
   "cell_type": "markdown",
   "metadata": {},
   "source": [
    "## Is point on line?\n",
    "\n",
    "### **Topic:** *Is Point P on Line in 1D?*\n",
    "\n",
    "---\n",
    "\n",
    "### **Simple Explanation:**\n",
    "\n",
    "In one-dimensional space (like a number line), a line segment is just the portion between two points — for example, between point A and point B.\n",
    "\n",
    "We want to check whether a third point P lies *on* this segment. That means P should be:\n",
    "\n",
    "* Greater than or equal to the smaller of A and B, **and**\n",
    "* Less than or equal to the larger of A and B.\n",
    "\n",
    "In simple terms, P is “between” A and B — or equal to one of them.\n",
    "\n",
    "For example:\n",
    "\n",
    "* If A = 2, B = 5, and P = 3 → P is between 2 and 5 → ✅\n",
    "* If A = -5, B = -2, and P = -3 → P is between -5 and -2 → ✅\n",
    "* If A = -5, B = -2, and P = -6 → P is outside the range → ❌\n",
    "* If A = 2, B = 5, and P = 2 → P is between 2 and 5 → ✅\n",
    "\n",
    "It doesn’t matter whether A is smaller than B or the other way around — we always check the range between them.\n",
    "\n",
    "---\n",
    "\n",
    "### **Exercise:**\n",
    "\n",
    "Write a function `is_point_on_line_1d(a, b, p)` that returns `True` if point `p` lies on the line segment between `a` and `b`, and `False` otherwise.\n",
    "\n",
    "---\n"
   ]
  },
  {
   "cell_type": "code",
   "execution_count": 6,
   "metadata": {},
   "outputs": [],
   "source": [
    "def is_point_on_line_1d(a,b,p):\n",
    "    if(p>=a) & (p<=b):\n",
    "        return True\n",
    "    elif(p>=b) & (p<=a):\n",
    "        return True\n",
    "    else:\n",
    "        return False"
   ]
  },
  {
   "cell_type": "code",
   "execution_count": 7,
   "metadata": {},
   "outputs": [
    {
     "data": {
      "text/plain": [
       "True"
      ]
     },
     "execution_count": 7,
     "metadata": {},
     "output_type": "execute_result"
    }
   ],
   "source": [
    "is_point_on_line_1d(2, 5, 3)"
   ]
  },
  {
   "cell_type": "code",
   "execution_count": 8,
   "metadata": {},
   "outputs": [
    {
     "data": {
      "text/plain": [
       "True"
      ]
     },
     "execution_count": 8,
     "metadata": {},
     "output_type": "execute_result"
    }
   ],
   "source": [
    "is_point_on_line_1d(5, 2, 3) "
   ]
  },
  {
   "cell_type": "code",
   "execution_count": 9,
   "metadata": {},
   "outputs": [
    {
     "data": {
      "text/plain": [
       "False"
      ]
     },
     "execution_count": 9,
     "metadata": {},
     "output_type": "execute_result"
    }
   ],
   "source": [
    "is_point_on_line_1d(2, 5, 6)"
   ]
  },
  {
   "cell_type": "code",
   "execution_count": 10,
   "metadata": {},
   "outputs": [
    {
     "data": {
      "text/plain": [
       "True"
      ]
     },
     "execution_count": 10,
     "metadata": {},
     "output_type": "execute_result"
    }
   ],
   "source": [
    "is_point_on_line_1d(4, 4, 4)"
   ]
  },
  {
   "cell_type": "code",
   "execution_count": 11,
   "metadata": {},
   "outputs": [
    {
     "data": {
      "text/plain": [
       "False"
      ]
     },
     "execution_count": 11,
     "metadata": {},
     "output_type": "execute_result"
    }
   ],
   "source": [
    "is_point_on_line_1d(4, 4, 5)"
   ]
  },
  {
   "cell_type": "code",
   "execution_count": 12,
   "metadata": {},
   "outputs": [
    {
     "data": {
      "text/plain": [
       "True"
      ]
     },
     "execution_count": 12,
     "metadata": {},
     "output_type": "execute_result"
    }
   ],
   "source": [
    "is_point_on_line_1d(-5, -2, -3)"
   ]
  },
  {
   "cell_type": "code",
   "execution_count": 13,
   "metadata": {},
   "outputs": [
    {
     "data": {
      "text/plain": [
       "False"
      ]
     },
     "execution_count": 13,
     "metadata": {},
     "output_type": "execute_result"
    }
   ],
   "source": [
    "is_point_on_line_1d(-5, -2, -6)"
   ]
  },
  {
   "cell_type": "code",
   "execution_count": 14,
   "metadata": {},
   "outputs": [
    {
     "data": {
      "text/plain": [
       "True"
      ]
     },
     "execution_count": 14,
     "metadata": {},
     "output_type": "execute_result"
    }
   ],
   "source": [
    "is_point_on_line_1d(-2, -5, -4)"
   ]
  },
  {
   "cell_type": "code",
   "execution_count": 15,
   "metadata": {},
   "outputs": [
    {
     "data": {
      "text/plain": [
       "True"
      ]
     },
     "execution_count": 15,
     "metadata": {},
     "output_type": "execute_result"
    }
   ],
   "source": [
    "is_point_on_line_1d(-1, 3, 0)"
   ]
  },
  {
   "cell_type": "markdown",
   "metadata": {},
   "source": [
    "## Are two lines overlapping or touching in 1D\n",
    "\n",
    "### **Topic:** *Are Two Lines Overlapping or Touching in 1D*\n",
    "\n",
    "---\n",
    "\n",
    "### 🧠 **Simple Explanation:**\n",
    "\n",
    "Imagine a number line — just a straight line with numbers going from negative to positive. You can draw a line segment between two points, like from -3 to 2. This segment includes every number between -3 and 2.\n",
    "\n",
    "Now, suppose you have **two such line segments**. You want to check:\n",
    "\n",
    "* Do they **overlap** (share some part)?\n",
    "* Do they **touch** (meet at exactly one point)?\n",
    "* Or are they **completely separate**?\n",
    "\n",
    "For example:\n",
    "\n",
    "* Line A: from -3 to 1\n",
    "* Line B: from 0 to 4\n",
    "  They **overlap**, because they both include 0 and 1.\n",
    "\n",
    "Or:\n",
    "\n",
    "* Line A: from -5 to -2\n",
    "* Line B: from -2 to 3\n",
    "  They **touch** at -2.\n",
    "\n",
    "---\n",
    "\n",
    "### 📘 **Exercise:**\n",
    "\n",
    "Write a function `are_lines_touching_or_overlapping(start1, end1, start2, end2)` that returns `True` if the two 1D line segments are overlapping or touching, and `False` if they are completely separate.\n",
    "\n",
    "📌 Make sure your function works correctly even if the start is greater than the end — the order shouldn't matter."
   ]
  },
  {
   "cell_type": "code",
   "execution_count": 40,
   "metadata": {},
   "outputs": [],
   "source": [
    "def are_lines_touching_or_overlapping(start1, end1, start2, end2):\n",
    "    if(end1<start1):\n",
    "        x1,x2=end1,start1\n",
    "    else:\n",
    "        x1,x2=start1,end1\n",
    "    if(end2<start2):\n",
    "        y1,y2=end2,start2\n",
    "    else:\n",
    "        y1,y2=start2,end2\n",
    "        \n",
    "    if ((x1>=y1) & (x1<=y2) )or ((x2>=y1) & (x2<=y2) ):\n",
    "        return True\n",
    "    if ((y1>=x1) & (y2<=x2) )or ((y2>=x1) & (y2<=x2) ):\n",
    "        return True\n",
    "    else:\n",
    "        return False"
   ]
  },
  {
   "cell_type": "code",
   "execution_count": 41,
   "metadata": {},
   "outputs": [
    {
     "data": {
      "text/plain": [
       "True"
      ]
     },
     "execution_count": 41,
     "metadata": {},
     "output_type": "execute_result"
    }
   ],
   "source": [
    "are_lines_touching_or_overlapping(1, 4, 3, 6)        # Output: True   (Overlap from 3 to 4)\n"
   ]
  },
  {
   "cell_type": "code",
   "execution_count": 42,
   "metadata": {},
   "outputs": [
    {
     "data": {
      "text/plain": [
       "True"
      ]
     },
     "execution_count": 42,
     "metadata": {},
     "output_type": "execute_result"
    }
   ],
   "source": [
    "are_lines_touching_or_overlapping(1, 3, 3, 5)        # Output: True   (Touch at point 3)\n"
   ]
  },
  {
   "cell_type": "code",
   "execution_count": 43,
   "metadata": {},
   "outputs": [
    {
     "data": {
      "text/plain": [
       "False"
      ]
     },
     "execution_count": 43,
     "metadata": {},
     "output_type": "execute_result"
    }
   ],
   "source": [
    "are_lines_touching_or_overlapping(1, 2, 3, 4)        # Output: False  (Completely separate)\n"
   ]
  },
  {
   "cell_type": "code",
   "execution_count": 44,
   "metadata": {},
   "outputs": [
    {
     "data": {
      "text/plain": [
       "True"
      ]
     },
     "execution_count": 44,
     "metadata": {},
     "output_type": "execute_result"
    }
   ],
   "source": [
    "\n",
    "# Examples with negative numbers\n",
    "are_lines_touching_or_overlapping(-3, 1, 0, 4)       # Output: True   (Overlap from 0 to 1)\n"
   ]
  },
  {
   "cell_type": "code",
   "execution_count": 45,
   "metadata": {},
   "outputs": [
    {
     "data": {
      "text/plain": [
       "True"
      ]
     },
     "execution_count": 45,
     "metadata": {},
     "output_type": "execute_result"
    }
   ],
   "source": [
    "are_lines_touching_or_overlapping(-5, -2, -2, 3)     # Output: True   (Touch at point -2)\n"
   ]
  },
  {
   "cell_type": "code",
   "execution_count": 46,
   "metadata": {},
   "outputs": [
    {
     "data": {
      "text/plain": [
       "False"
      ]
     },
     "execution_count": 46,
     "metadata": {},
     "output_type": "execute_result"
    }
   ],
   "source": [
    "are_lines_touching_or_overlapping(-10, -6, -5, -1)   # Output: False  (No touch or overlap)\n"
   ]
  },
  {
   "cell_type": "code",
   "execution_count": 47,
   "metadata": {},
   "outputs": [
    {
     "data": {
      "text/plain": [
       "True"
      ]
     },
     "execution_count": 47,
     "metadata": {},
     "output_type": "execute_result"
    }
   ],
   "source": [
    "are_lines_touching_or_overlapping(-2, -7, -4, -3)    # Output: True   (Overlap from -4 to -3, even with reversed inputs)"
   ]
  },
  {
   "cell_type": "markdown",
   "metadata": {},
   "source": [
    "## Is a point inside a rectangle?\n",
    "\n",
    "**Topic:** *Is a Point Inside a Rectangle (with Sides Parallel to the Axes)?*\n",
    "\n",
    "---\n",
    "\n",
    "### 🧠 **Explanation:**\n",
    "\n",
    "In geometry, a **rectangle** is a shape with four sides and four right angles. When the sides of a rectangle are **parallel to the x and y axes**, it means the edges of the rectangle are either **horizontal or vertical**—not slanted.\n",
    "\n",
    "To describe such a rectangle, we only need two opposite corners:\n",
    "\n",
    "* The **bottom-left corner** (`x1`, `y1`)\n",
    "* The **top-right corner** (`x2`, `y2`)\n",
    "\n",
    "A **point** has two values: `x` and `y`—its horizontal and vertical positions.\n",
    "\n",
    "To check if a point lies **inside** (or on the border of) the rectangle, we see if:\n",
    "\n",
    "* The `x` value of the point is between `x1` and `x2`, and\n",
    "* The `y` value of the point is between `y1` and `y2`.\n",
    "\n",
    "This assumes `x1 < x2` and `y1 < y2` (which means the first point is bottom-left and the second is top-right).\n",
    "\n",
    "---\n",
    "\n",
    "### ✅ **Exercise:**\n",
    "\n",
    "Write a function `is_point_inside_rectangle(x1, y1, x2, y2, px, py)` that returns `True` if the point `(px, py)` lies inside or on the boundary of the rectangle defined by corners `(x1, y1)` and `(x2, y2)`, and `False` otherwise.\n",
    "\n",
    "---"
   ]
  },
  {
   "cell_type": "code",
   "execution_count": 48,
   "metadata": {},
   "outputs": [],
   "source": [
    "def is_point_inside_rectangle(x1,y1,x2,y2,px,py):\n",
    "    if (px>=x1) & (px<=x2) & (py>=y1) &(py <=y2):\n",
    "        return True\n",
    "    else:\n",
    "        return False"
   ]
  },
  {
   "cell_type": "code",
   "execution_count": 49,
   "metadata": {},
   "outputs": [
    {
     "data": {
      "text/plain": [
       "True"
      ]
     },
     "execution_count": 49,
     "metadata": {},
     "output_type": "execute_result"
    }
   ],
   "source": [
    "is_point_inside_rectangle(0, 0, 10, 5, 3, 2)   # Output: True\n"
   ]
  },
  {
   "cell_type": "code",
   "execution_count": 50,
   "metadata": {},
   "outputs": [
    {
     "data": {
      "text/plain": [
       "True"
      ]
     },
     "execution_count": 50,
     "metadata": {},
     "output_type": "execute_result"
    }
   ],
   "source": [
    "is_point_inside_rectangle(0, 0, 10, 5, 10, 5)  # Output: True  (point on the corner)\n"
   ]
  },
  {
   "cell_type": "code",
   "execution_count": 51,
   "metadata": {},
   "outputs": [
    {
     "data": {
      "text/plain": [
       "False"
      ]
     },
     "execution_count": 51,
     "metadata": {},
     "output_type": "execute_result"
    }
   ],
   "source": [
    "is_point_inside_rectangle(0, 0, 10, 5, 11, 5)  # Output: False (outside the rectangle)\n"
   ]
  },
  {
   "cell_type": "code",
   "execution_count": 52,
   "metadata": {},
   "outputs": [
    {
     "data": {
      "text/plain": [
       "True"
      ]
     },
     "execution_count": 52,
     "metadata": {},
     "output_type": "execute_result"
    }
   ],
   "source": [
    "is_point_inside_rectangle(-5, -5, 5, 5, 0, 0)  # Output: True  (inside a rectangle with negative coordinates)"
   ]
  },
  {
   "cell_type": "code",
   "execution_count": 53,
   "metadata": {},
   "outputs": [
    {
     "data": {
      "text/plain": [
       "True"
      ]
     },
     "execution_count": 53,
     "metadata": {},
     "output_type": "execute_result"
    }
   ],
   "source": [
    "is_point_inside_rectangle(-5, -5, -1, -1, -2, -2)  # Output: True  (inside a rectangle with negative coordinates)"
   ]
  },
  {
   "cell_type": "markdown",
   "metadata": {},
   "source": [
    "## Are rectangles (with sides parallel to axes) intersecting?\n",
    "\n",
    "### **Topic:** *Are Rectangles Intersecting?*\n",
    "\n",
    "---\n",
    "\n",
    "### **Explanation:**\n",
    "\n",
    "A **rectangle** on a 2D plane can be defined by its two opposite corners — the bottom-left and the top-right. For example, suppose a rectangle has its bottom-left corner at (1, 2) and top-right corner at (4, 5). This rectangle stretches from x = 1 to x = 4 and from y = 2 to y = 5.\n",
    "\n",
    "Two rectangles are said to **intersect** if they share **any area** — even a single point on their boundary counts. If one is completely to the left, right, above, or below the other, then they **do not intersect**.\n",
    "\n",
    "---\n",
    "\n",
    "### **Exercise:**\n",
    "\n",
    "Write a function `are_rectangles_intersecting(rect1, rect2)` that takes two rectangles and returns `True` if they intersect, otherwise returns `False`.\n",
    "\n",
    "Each rectangle is represented as a tuple of two points:\n",
    "`((x1, y1), (x2, y2))`, where\n",
    "\n",
    "* `(x1, y1)` is the **bottom-left corner**\n",
    "* `(x2, y2)` is the **top-right corner**\n",
    "\n",
    "#### **Function Signature:**\n",
    "\n",
    "```python\n",
    "def are_rectangles_intersecting(rect1: tuple, rect2: tuple) -> bool:\n",
    "```\n",
    "\n",
    "---"
   ]
  },
  {
   "cell_type": "code",
   "execution_count": 3,
   "metadata": {},
   "outputs": [],
   "source": [
    "def are_rectangles_intersecting(rect1, rect2):\n",
    "    (x1,y1),(x2,y2)=rect1\n",
    "    (x3,y3),(x4,y4)=rect2\n",
    "    if ((x3>=x1) & (x3<=x2)) or ((x4>=x1) & (x4<=x2)) or ((y3>=y1) & (y3<=y2)) or ((y4>=y1) & (y4<=y2)):\n",
    "        return True\n",
    "    else:\n",
    "        return False\n",
    "    \n",
    "    \n",
    "    "
   ]
  },
  {
   "cell_type": "code",
   "execution_count": 4,
   "metadata": {},
   "outputs": [
    {
     "data": {
      "text/plain": [
       "True"
      ]
     },
     "execution_count": 4,
     "metadata": {},
     "output_type": "execute_result"
    }
   ],
   "source": [
    "# Rectangles overlap partially\n",
    "are_rectangles_intersecting(((0, 0), (3, 3)), ((2, 2), (5, 5)))  \n",
    "# Output: True\n",
    "\n"
   ]
  },
  {
   "cell_type": "code",
   "execution_count": 5,
   "metadata": {},
   "outputs": [
    {
     "data": {
      "text/plain": [
       "False"
      ]
     },
     "execution_count": 5,
     "metadata": {},
     "output_type": "execute_result"
    }
   ],
   "source": [
    "# One rectangle is completely to the right of the other\n",
    "are_rectangles_intersecting(((0, 0), (1, 1)), ((2, 2), (3, 3)))  \n",
    "# Output: False\n",
    "\n"
   ]
  },
  {
   "cell_type": "code",
   "execution_count": 6,
   "metadata": {},
   "outputs": [
    {
     "data": {
      "text/plain": [
       "True"
      ]
     },
     "execution_count": 6,
     "metadata": {},
     "output_type": "execute_result"
    }
   ],
   "source": [
    "# Touching at corner\n",
    "are_rectangles_intersecting(((0, 0), (2, 2)), ((2, 2), (4, 4)))  \n",
    "# Output: True\n",
    "\n"
   ]
  },
  {
   "cell_type": "code",
   "execution_count": 7,
   "metadata": {},
   "outputs": [
    {
     "data": {
      "text/plain": [
       "True"
      ]
     },
     "execution_count": 7,
     "metadata": {},
     "output_type": "execute_result"
    }
   ],
   "source": [
    "# One rectangle inside another\n",
    "are_rectangles_intersecting(((0, 0), (5, 5)), ((1, 1), (2, 2)))  \n",
    "# Output: True"
   ]
  },
  {
   "cell_type": "markdown",
   "metadata": {},
   "source": [
    "## Device impurity formula for a set with only two classes given the counts of each class.\n",
    "**Topic:** *Devise Your Own Impurity Formula*\n",
    "\n",
    "---\n",
    "\n",
    "### **Explanation (Simple Terms)**\n",
    "\n",
    "When we try to split data into two groups in machine learning (especially in decision trees), we want to know how “mixed” a set is — meaning how many items from different classes are in the same set. This “mixed-ness” is called *impurity*.\n",
    "\n",
    "* If all the items are from the **same class**, the set is **pure** — impurity is **0**.\n",
    "* If the items are **equally split between two classes**, the set is **maximally impure** — impurity is **high**.\n",
    "\n",
    "You might have heard of common impurity measures like **Gini Index** or **Entropy**, but in this exercise, you will **create your own** formula for impurity using the counts of the two classes.\n",
    "\n",
    "---\n",
    "\n",
    "### **Exercise**\n",
    "\n",
    "Write a function `my_impurity(c1, c2)` that calculates the impurity of a set containing two classes:\n",
    "\n",
    "* `c1` is the number of examples from **class 1**\n",
    "* `c2` is the number of examples from **class 2**\n",
    "\n",
    "You should **devise your own formula** to calculate impurity. Your formula must meet these conditions:\n",
    "\n",
    "1. If all items are from one class (`c1 = 0` or `c2 = 0`), impurity should be `0`.\n",
    "2. The impurity should increase as the classes become more evenly balanced.\n",
    "3. The impurity should be **maximum** when `c1 == c2`.\n",
    "\n",
    "You may use arithmetic operators like `+`, `-`, `*`, `/`, and functions like `abs()` if needed."
   ]
  },
  {
   "cell_type": "code",
   "execution_count": 4,
   "metadata": {},
   "outputs": [],
   "source": [
    "import math\n",
    "def my_impurity(c1,c2):\n",
    "    total_c=c1+c2\n",
    "    ratio_c1=c1/total_c\n",
    "    ratio_c2=c2/total_c\n",
    "    impurity=math.sin(ratio_c1*math.pi)\n",
    "    return impurity\n",
    "\n",
    "    "
   ]
  },
  {
   "cell_type": "code",
   "execution_count": 5,
   "metadata": {},
   "outputs": [
    {
     "data": {
      "text/plain": [
       "0.0"
      ]
     },
     "execution_count": 5,
     "metadata": {},
     "output_type": "execute_result"
    }
   ],
   "source": [
    "my_impurity(0, 5)     # Output: 0.0\n"
   ]
  },
  {
   "cell_type": "code",
   "execution_count": 6,
   "metadata": {},
   "outputs": [
    {
     "data": {
      "text/plain": [
       "1.0"
      ]
     },
     "execution_count": 6,
     "metadata": {},
     "output_type": "execute_result"
    }
   ],
   "source": [
    "my_impurity(5, 5)     # Output: 1.0\n"
   ]
  },
  {
   "cell_type": "code",
   "execution_count": 9,
   "metadata": {},
   "outputs": [
    {
     "data": {
      "text/plain": [
       "0.8090169943749475"
      ]
     },
     "execution_count": 9,
     "metadata": {},
     "output_type": "execute_result"
    }
   ],
   "source": [
    "my_impurity(3, 7)     # Output: 0.6\n"
   ]
  },
  {
   "cell_type": "code",
   "execution_count": 8,
   "metadata": {},
   "outputs": [
    {
     "data": {
      "text/plain": [
       "0.3090169943749475"
      ]
     },
     "execution_count": 8,
     "metadata": {},
     "output_type": "execute_result"
    }
   ],
   "source": [
    "my_impurity(9, 1)     # Output: 0.2"
   ]
  },
  {
   "cell_type": "code",
   "execution_count": 12,
   "metadata": {},
   "outputs": [],
   "source": [
    "import math\n",
    "def my_impurity(c1,c2):\n",
    "    if (c1<=c2):\n",
    "        impurity = (2*c1)/(c1+c2)\n",
    "    else:\n",
    "        impurity = (2*c2)/(c1+c2)\n",
    "    return impurity"
   ]
  },
  {
   "cell_type": "code",
   "execution_count": 13,
   "metadata": {},
   "outputs": [
    {
     "data": {
      "text/plain": [
       "0.0"
      ]
     },
     "execution_count": 13,
     "metadata": {},
     "output_type": "execute_result"
    }
   ],
   "source": [
    "my_impurity(0, 5)     # Output: 0.0"
   ]
  },
  {
   "cell_type": "code",
   "execution_count": 14,
   "metadata": {},
   "outputs": [
    {
     "data": {
      "text/plain": [
       "1.0"
      ]
     },
     "execution_count": 14,
     "metadata": {},
     "output_type": "execute_result"
    }
   ],
   "source": [
    "my_impurity(5, 5)     # Output: 1.0"
   ]
  },
  {
   "cell_type": "code",
   "execution_count": 17,
   "metadata": {},
   "outputs": [
    {
     "data": {
      "text/plain": [
       "0.6"
      ]
     },
     "execution_count": 17,
     "metadata": {},
     "output_type": "execute_result"
    }
   ],
   "source": [
    "my_impurity(7, 3)     # Output: 0.6"
   ]
  },
  {
   "cell_type": "code",
   "execution_count": 16,
   "metadata": {},
   "outputs": [
    {
     "data": {
      "text/plain": [
       "0.2"
      ]
     },
     "execution_count": 16,
     "metadata": {},
     "output_type": "execute_result"
    }
   ],
   "source": [
    "my_impurity(9, 1)     # Output: 0.2"
   ]
  },
  {
   "cell_type": "markdown",
   "metadata": {},
   "source": [
    "# Chapter 3. If - Else + Recursion:\n",
    "\n",
    "## Factorial using recursion\n",
    "\n",
    "**Topic:** *Factorial using Recursion*\n",
    "\n",
    "---\n",
    "\n",
    "### **Simple Explanation:**\n",
    "\n",
    "A **factorial** of a number is the result of multiplying all whole numbers from that number down to 1.\n",
    "\n",
    "For example:\n",
    "\n",
    "* The factorial of 5 is: `5 × 4 × 3 × 2 × 1 = 120`\n",
    "* The factorial of 3 is: `3 × 2 × 1 = 6`\n",
    "* The factorial of 1 is: `1`\n",
    "\n",
    "The factorial of 0 is defined as **1** (by convention).\n",
    "\n",
    "Now, there's a smart way to compute factorials using something called **recursion**. In recursion, a function calls itself with a smaller input to eventually solve a problem.\n",
    "\n",
    "Example logic:\n",
    "\n",
    "* factorial(5) = 5 × factorial(4)\n",
    "* factorial(4) = 4 × factorial(3)\n",
    "* ...\n",
    "* factorial(1) = 1 (this is called the *base case*)\n",
    "\n",
    "So it keeps breaking the problem into smaller parts until it reaches 1.\n",
    "\n",
    "---\n",
    "\n",
    "### **Exercise:**\n",
    "\n",
    "Write a function `factorial_recursive(n)` that takes one argument `n` (a non-negative integer) and returns the factorial of that number using recursion.\n",
    "\n",
    "If `n` is 0, the function should return 1.\n"
   ]
  },
  {
   "cell_type": "code",
   "execution_count": 1,
   "metadata": {},
   "outputs": [],
   "source": [
    "def factorial_recursive(n):\n",
    "    if (n==1) or (n==0):\n",
    "        return 1\n",
    "    else:\n",
    "        return n*factorial_recursive(n-1)"
   ]
  },
  {
   "cell_type": "code",
   "execution_count": 2,
   "metadata": {},
   "outputs": [
    {
     "data": {
      "text/plain": [
       "1"
      ]
     },
     "execution_count": 2,
     "metadata": {},
     "output_type": "execute_result"
    }
   ],
   "source": [
    "factorial_recursive(0)"
   ]
  },
  {
   "cell_type": "code",
   "execution_count": 3,
   "metadata": {},
   "outputs": [
    {
     "data": {
      "text/plain": [
       "1"
      ]
     },
     "execution_count": 3,
     "metadata": {},
     "output_type": "execute_result"
    }
   ],
   "source": [
    "factorial_recursive(1)"
   ]
  },
  {
   "cell_type": "code",
   "execution_count": 4,
   "metadata": {},
   "outputs": [
    {
     "data": {
      "text/plain": [
       "2"
      ]
     },
     "execution_count": 4,
     "metadata": {},
     "output_type": "execute_result"
    }
   ],
   "source": [
    "factorial_recursive(2)"
   ]
  },
  {
   "cell_type": "code",
   "execution_count": 5,
   "metadata": {},
   "outputs": [
    {
     "data": {
      "text/plain": [
       "6"
      ]
     },
     "execution_count": 5,
     "metadata": {},
     "output_type": "execute_result"
    }
   ],
   "source": [
    "factorial_recursive(3)"
   ]
  },
  {
   "cell_type": "code",
   "execution_count": 6,
   "metadata": {},
   "outputs": [
    {
     "data": {
      "text/plain": [
       "24"
      ]
     },
     "execution_count": 6,
     "metadata": {},
     "output_type": "execute_result"
    }
   ],
   "source": [
    "factorial_recursive(4)"
   ]
  },
  {
   "cell_type": "code",
   "execution_count": 7,
   "metadata": {},
   "outputs": [
    {
     "data": {
      "text/plain": [
       "120"
      ]
     },
     "execution_count": 7,
     "metadata": {},
     "output_type": "execute_result"
    }
   ],
   "source": [
    "factorial_recursive(5)"
   ]
  },
  {
   "cell_type": "markdown",
   "metadata": {},
   "source": [
    "## Compute HCF using Euclid's Method with Recursion*\n",
    "\n",
    "**Topic:** *Compute HCF using Euclid's Method with Recursion*\n",
    "\n",
    "---\n",
    "\n",
    "### **Explanation:**\n",
    "\n",
    "HCF stands for **Highest Common Factor**, also known as **GCD (Greatest Common Divisor)**. It is the largest number that evenly divides two numbers.\n",
    "\n",
    "For example:\n",
    "\n",
    "* The HCF of 12 and 18 is 6, because 6 is the biggest number that divides both 12 and 18 without a remainder.\n",
    "\n",
    "**Euclid’s Method** is a smart and efficient way to compute the HCF. It works like this:\n",
    "\n",
    "* If `b` is 0, the HCF is `a`.\n",
    "* Otherwise, HCF of `a` and `b` is the same as the HCF of `b` and `a % b`.\n",
    "\n",
    "This method keeps reducing the problem until it finds the HCF. We can use **recursion** to apply this method repeatedly until we get the answer.\n",
    "\n",
    "---\n",
    "\n",
    "### **Exercise:**\n",
    "\n",
    "Write a function named `compute_hcf(a, b)` that takes two positive integers `a` and `b` and returns their HCF using Euclid's method with recursion.\n",
    "\n",
    "* You should **use recursion** to solve this problem.\n",
    "* The function should return an integer.\n",
    "\n",
    "---\n",
    "\n",
    "### **Example Usage:**\n",
    "\n",
    "```python\n",
    "compute_hcf(12, 18)     # Output: 6\n",
    "compute_hcf(100, 25)    # Output: 25\n",
    "compute_hcf(17, 13)     # Output: 1\n",
    "compute_hcf(0, 5)       # Output: 5\n",
    "```\n",
    "\n",
    "> 💡 *Hint: Try to express the logic using the rule: HCF(a, b) = HCF(b, a % b)*\n",
    "> Remember that recursion means your function will call itself with smaller values until it reaches a stopping point."
   ]
  },
  {
   "cell_type": "code",
   "execution_count": 31,
   "metadata": {},
   "outputs": [],
   "source": [
    "\n",
    "def compute_hcf(a,b):\n",
    "    if (b==0):\n",
    "        return a\n",
    "    return compute_hcf(b,a%b)"
   ]
  },
  {
   "cell_type": "code",
   "execution_count": 32,
   "metadata": {},
   "outputs": [
    {
     "data": {
      "text/plain": [
       "6"
      ]
     },
     "execution_count": 32,
     "metadata": {},
     "output_type": "execute_result"
    }
   ],
   "source": [
    "compute_hcf(12,18)"
   ]
  },
  {
   "cell_type": "code",
   "execution_count": 33,
   "metadata": {},
   "outputs": [
    {
     "data": {
      "text/plain": [
       "25"
      ]
     },
     "execution_count": 33,
     "metadata": {},
     "output_type": "execute_result"
    }
   ],
   "source": [
    "compute_hcf(100, 25)"
   ]
  },
  {
   "cell_type": "code",
   "execution_count": 34,
   "metadata": {},
   "outputs": [
    {
     "data": {
      "text/plain": [
       "1"
      ]
     },
     "execution_count": 34,
     "metadata": {},
     "output_type": "execute_result"
    }
   ],
   "source": [
    "compute_hcf(17, 13)"
   ]
  },
  {
   "cell_type": "code",
   "execution_count": 35,
   "metadata": {},
   "outputs": [
    {
     "data": {
      "text/plain": [
       "5"
      ]
     },
     "execution_count": 35,
     "metadata": {},
     "output_type": "execute_result"
    }
   ],
   "source": [
    "compute_hcf(0, 5)"
   ]
  },
  {
   "cell_type": "code",
   "execution_count": 36,
   "metadata": {},
   "outputs": [
    {
     "data": {
      "text/plain": [
       "1"
      ]
     },
     "execution_count": 36,
     "metadata": {},
     "output_type": "execute_result"
    }
   ],
   "source": [
    "compute_hcf(3, 2)"
   ]
  },
  {
   "cell_type": "code",
   "execution_count": 37,
   "metadata": {},
   "outputs": [
    {
     "data": {
      "text/plain": [
       "1"
      ]
     },
     "execution_count": 37,
     "metadata": {},
     "output_type": "execute_result"
    }
   ],
   "source": [
    "compute_hcf(2, 3)"
   ]
  },
  {
   "cell_type": "markdown",
   "metadata": {},
   "source": [
    "## Multiplication using recursion\n",
    "\n",
    "### **Topic:** *Multiplication using Recursion*\n",
    "\n",
    "#### **Simple Explanation:**\n",
    "\n",
    "Multiplication means adding a number to itself a certain number of times.\n",
    "For example, 4 multiplied by 3 means:\n",
    "`4 + 4 + 4 = 12`.\n",
    "\n",
    "Recursion means a function that calls itself to solve smaller versions of the same problem.\n",
    "Instead of using the `*` (multiplication) operator directly, you can use recursion to repeatedly add a number.\n",
    "\n",
    "So, to multiply `a` and `b`, you can add `a` to the result of multiplying `a` and `b-1`.\n",
    "\n",
    "Also, consider that:\n",
    "\n",
    "* If `b` is 0, the result is 0 (anything multiplied by 0 is 0).\n",
    "* If `b` is negative, handle it by converting to positive, and then negating the result.\n",
    "\n",
    "---\n",
    "\n",
    "### **Exercise:**\n",
    "\n",
    "Write a function `multiply_recursive(a, b)` that multiplies two integers using recursion (without using the `*` operator).\n",
    "\n",
    "* `a`: the first number (int)\n",
    "* `b`: the second number (int)\n",
    "\n",
    "Return the product of `a` and `b`.\n",
    "\n",
    "---\n",
    "\n",
    "### **Example Usage:**\n",
    "\n",
    "```python\n",
    "multiply_recursive(4, 3)     # Output: 12\n",
    "multiply_recursive(5, 0)     # Output: 0\n",
    "multiply_recursive(7, -2)    # Output: -14\n",
    "multiply_recursive(-3, -3)   # Output: 9"
   ]
  },
  {
   "cell_type": "code",
   "execution_count": 65,
   "metadata": {},
   "outputs": [],
   "source": [
    "def multiply_recursive(a,b):\n",
    "    if (b==0):\n",
    "        return 0\n",
    "    if (b<0):\n",
    "        c=-b\n",
    "        res=(a+multiply_recursive(a,c-1))\n",
    "        return -res\n",
    "    else:\n",
    "        return a+multiply_recursive(a,b-1)\n",
    "    "
   ]
  },
  {
   "cell_type": "code",
   "execution_count": 70,
   "metadata": {},
   "outputs": [
    {
     "data": {
      "text/plain": [
       "12"
      ]
     },
     "execution_count": 70,
     "metadata": {},
     "output_type": "execute_result"
    }
   ],
   "source": [
    "multiply_recursive(4, 3)     # Output: 12\n"
   ]
  },
  {
   "cell_type": "code",
   "execution_count": 71,
   "metadata": {},
   "outputs": [
    {
     "data": {
      "text/plain": [
       "0"
      ]
     },
     "execution_count": 71,
     "metadata": {},
     "output_type": "execute_result"
    }
   ],
   "source": [
    "multiply_recursive(5, 0)     # Output: 0\n"
   ]
  },
  {
   "cell_type": "code",
   "execution_count": 72,
   "metadata": {},
   "outputs": [
    {
     "data": {
      "text/plain": [
       "-14"
      ]
     },
     "execution_count": 72,
     "metadata": {},
     "output_type": "execute_result"
    }
   ],
   "source": [
    "multiply_recursive(7, -2)    # Output: -14\n"
   ]
  },
  {
   "cell_type": "code",
   "execution_count": 73,
   "metadata": {},
   "outputs": [
    {
     "data": {
      "text/plain": [
       "9"
      ]
     },
     "execution_count": 73,
     "metadata": {},
     "output_type": "execute_result"
    }
   ],
   "source": [
    "multiply_recursive(-3, -3)   # Output: 9"
   ]
  },
  {
   "cell_type": "markdown",
   "metadata": {},
   "source": [
    "## Division using recursion to find quotient and remainder\n",
    "\n",
    "### **Topic:** *Division using Recursion to Find Quotient and Remainder*\n",
    "\n",
    "#### **Simple Explanation:**\n",
    "\n",
    "Division is the process of finding how many times one number (called the **divisor**) fits into another number (called the **dividend**).\n",
    "For example, in `17 ÷ 5`, the number 5 fits into 17 **three** times (that’s the **quotient**) and there are **2** left over (that’s the **remainder**), because:\n",
    "\n",
    "```\n",
    "5 + 5 + 5 = 15, and 17 - 15 = 2  \n",
    "So, 17 ÷ 5 gives quotient = 3 and remainder = 2\n",
    "```\n",
    "\n",
    "**Recursion** means solving a problem by breaking it into smaller versions of the same problem. In this case, we repeatedly subtract the divisor from the dividend and count how many times we do it until what’s left is smaller than the divisor (that’s the remainder).\n",
    "\n",
    "---\n",
    "\n",
    "### **Exercise:**\n",
    "\n",
    "Write a function `recursive_divide(dividend, divisor)` that returns a tuple `(quotient, remainder)` using recursion.\n",
    "You **must not** use the `//` or `%` operators.\n",
    "\n",
    "* `dividend`: a non-negative integer\n",
    "* `divisor`: a positive integer\n",
    "\n",
    "**Return:** A tuple of two integers: `(quotient, remainder)`\n",
    "\n",
    "---\n",
    "\n",
    "### **Example Usage:**\n",
    "\n",
    "```python\n",
    "recursive_divide(17, 5)   # Output: (3, 2)\n",
    "recursive_divide(20, 4)   # Output: (5, 0)\n",
    "recursive_divide(7, 3)    # Output: (2, 1)\n",
    "recursive_divide(0, 1)    # Output: (0, 0)\n",
    "```"
   ]
  },
  {
   "cell_type": "code",
   "execution_count": 99,
   "metadata": {},
   "outputs": [],
   "source": [
    "import math\n",
    "def recursive_divide(dividend,divisor):\n",
    "    a=dividend\n",
    "    b=divisor\n",
    "    c=a-b\n",
    "    if(c>=b):\n",
    "        return recursive_divide(c,b)\n",
    "    elif (c<b):\n",
    "        return (a)"
   ]
  },
  {
   "cell_type": "code",
   "execution_count": 100,
   "metadata": {},
   "outputs": [
    {
     "data": {
      "text/plain": [
       "7"
      ]
     },
     "execution_count": 100,
     "metadata": {},
     "output_type": "execute_result"
    }
   ],
   "source": [
    "recursive_divide(17, 5)   # Output: (3, 2)"
   ]
  },
  {
   "cell_type": "code",
   "execution_count": 101,
   "metadata": {},
   "outputs": [
    {
     "data": {
      "text/plain": [
       "4"
      ]
     },
     "execution_count": 101,
     "metadata": {},
     "output_type": "execute_result"
    }
   ],
   "source": [
    "recursive_divide(20, 4)   # Output: (5, 0)"
   ]
  },
  {
   "cell_type": "code",
   "execution_count": 102,
   "metadata": {},
   "outputs": [
    {
     "data": {
      "text/plain": [
       "4"
      ]
     },
     "execution_count": 102,
     "metadata": {},
     "output_type": "execute_result"
    }
   ],
   "source": [
    "recursive_divide(7, 3)    # Output: (2, 1)\n"
   ]
  },
  {
   "cell_type": "code",
   "execution_count": 103,
   "metadata": {},
   "outputs": [
    {
     "data": {
      "text/plain": [
       "0"
      ]
     },
     "execution_count": 103,
     "metadata": {},
     "output_type": "execute_result"
    }
   ],
   "source": [
    "\n",
    "recursive_divide(0, 1)    # Output: (0, 0)"
   ]
  },
  {
   "cell_type": "code",
   "execution_count": null,
   "metadata": {},
   "outputs": [],
   "source": []
  }
 ],
 "metadata": {
  "kernelspec": {
   "display_name": "Python 3",
   "language": "python",
   "name": "python3"
  },
  "language_info": {
   "codemirror_mode": {
    "name": "ipython",
    "version": 3
   },
   "file_extension": ".py",
   "mimetype": "text/x-python",
   "name": "python",
   "nbconvert_exporter": "python",
   "pygments_lexer": "ipython3",
   "version": "3.6.8"
  },
  "toc": {
   "base_numbering": 1,
   "nav_menu": {},
   "number_sections": true,
   "sideBar": true,
   "skip_h1_title": false,
   "title_cell": "Table of Contents",
   "title_sidebar": "Contents",
   "toc_cell": false,
   "toc_position": {},
   "toc_section_display": true,
   "toc_window_display": false
  }
 },
 "nbformat": 4,
 "nbformat_minor": 2
}

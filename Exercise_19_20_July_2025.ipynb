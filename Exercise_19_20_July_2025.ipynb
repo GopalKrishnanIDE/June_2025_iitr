{
 "cells": [
  {
   "cell_type": "markdown",
   "metadata": {},
   "source": [
    "#### **Explanation:**\n",
    "\n",
    "When someone deposits or borrows money, the amount often grows over time due to *interest*. There are two common types of interest: **Simple Interest** and **Compound Interest**.\n",
    "\n",
    "In this exercise, we'll focus on **Simple Interest**.\n",
    "\n",
    "* **Principal (P):** The original amount of money deposited or borrowed.\n",
    "* **Rate of Interest (R):** The percentage charged or earned on the principal each year.\n",
    "* **Time (T):** The number of years the money is deposited or borrowed for.\n",
    "\n",
    "The formula to calculate **Simple Interest** is:\n",
    "\n",
    "```\n",
    "Interest = (Principal × Rate × Time) / 100\n",
    "```\n",
    "\n",
    "This gives us the amount of money earned or paid as interest after the given time."
   ]
  },
  {
   "cell_type": "markdown",
   "metadata": {},
   "source": [
    "#### **Problem Statement:**\n",
    "\n",
    "Write a function named `calculate_interest` that takes the following three arguments:\n",
    "\n",
    "* `principal` (amount of money deposited or borrowed),\n",
    "* `rate` (rate of interest per year, as a percentage),\n",
    "* `time` (duration in years),\n",
    "\n",
    "and returns the simple interest calculated using the formula above."
   ]
  },
  {
   "cell_type": "code",
   "execution_count": 7,
   "metadata": {},
   "outputs": [],
   "source": [
    "def calculate_interest(principal,rate,time):\n",
    "    interest = principal*rate*time*0.01\n",
    "    print(f\"Interest for the principal {principal}, rate {rate}, & time {time} is \")\n",
    "    return interest"
   ]
  },
  {
   "cell_type": "code",
   "execution_count": 8,
   "metadata": {},
   "outputs": [
    {
     "name": "stdout",
     "output_type": "stream",
     "text": [
      "Interest for the principal 1000, rate 5, & time 2 is \n"
     ]
    },
    {
     "data": {
      "text/plain": [
       "100.0"
      ]
     },
     "execution_count": 8,
     "metadata": {},
     "output_type": "execute_result"
    }
   ],
   "source": [
    "calculate_interest(1000,5,2)"
   ]
  },
  {
   "cell_type": "code",
   "execution_count": 9,
   "metadata": {},
   "outputs": [
    {
     "name": "stdout",
     "output_type": "stream",
     "text": [
      "Interest for the principal 1500, rate 4.3, & time 3 is \n"
     ]
    },
    {
     "data": {
      "text/plain": [
       "193.5"
      ]
     },
     "execution_count": 9,
     "metadata": {},
     "output_type": "execute_result"
    }
   ],
   "source": [
    "calculate_interest(1500,4.3,3)"
   ]
  },
  {
   "cell_type": "code",
   "execution_count": 10,
   "metadata": {},
   "outputs": [
    {
     "name": "stdout",
     "output_type": "stream",
     "text": [
      "Interest for the principal 500, rate 10, & time 0 is \n"
     ]
    },
    {
     "data": {
      "text/plain": [
       "0.0"
      ]
     },
     "execution_count": 10,
     "metadata": {},
     "output_type": "execute_result"
    }
   ],
   "source": [
    "calculate_interest(500,10,0)"
   ]
  },
  {
   "cell_type": "markdown",
   "metadata": {},
   "source": [
    "\n",
    "## Calculate Hypotense\n",
    "\n",
    "### 🧠 Topic: **Calculate Hypotenuse**\n",
    "\n",
    "#### 📘 Understanding the Terms (in simple language):\n",
    "\n",
    "When you have a right-angled triangle (a triangle where one of the angles is exactly 90 degrees), the longest side of the triangle is called the **hypotenuse**. It’s the side that is **opposite the right angle**.\n",
    "\n",
    "The other two sides (the ones that make the right angle) are usually called the **base** and the **height** (or **perpendicular**).\n",
    "\n",
    "To calculate the length of the hypotenuse, we use something called the **Pythagorean Theorem**.\n",
    "\n",
    "The formula is:\n",
    "\n",
    "```\n",
    "hypotenuse² = base² + height²\n",
    "```\n",
    "\n",
    "To find the hypotenuse, we need to take the square root of the sum of the squares of the base and height:\n",
    "\n",
    "```\n",
    "hypotenuse = √(base² + height²)"
   ]
  },
  {
   "cell_type": "markdown",
   "metadata": {},
   "source": [
    "# Geometric proof of pythagoreus theorem"
   ]
  },
  {
   "attachments": {
    "image.png": {
     "image/png": "[encoded data removed]"
    }
   },
   "cell_type": "markdown",
   "metadata": {},
   "source": [
    "![image.png](attachment:image.png)"
   ]
  },
  {
   "cell_type": "markdown",
   "metadata": {},
   "source": [
    "#### 🔧 Task:\n",
    "\n",
    "Write a function named `calculate_hypotenuse` that takes two arguments:\n",
    "\n",
    "* `base`: the length of the base (a number)\n",
    "* `height`: the length of the height/perpendicular side (a number)\n",
    "\n",
    "It should return the length of the hypotenuse (a number).\n",
    "\n",
    "Use the formula:\n",
    "\n",
    "```\n",
    "hypotenuse = (base² + height²) ** 0.5\n",
    "```\n"
   ]
  },
  {
   "cell_type": "code",
   "execution_count": 1,
   "metadata": {},
   "outputs": [],
   "source": [
    "def calculate_hypotenuse(base,height):\n",
    "    hypotenuse = (base**2 + height**2)**0.5\n",
    "    print(f\"For the base {base}, height {height}, Hypotenuse is \")\n",
    "    return hypotenuse"
   ]
  },
  {
   "cell_type": "code",
   "execution_count": 2,
   "metadata": {},
   "outputs": [
    {
     "name": "stdout",
     "output_type": "stream",
     "text": [
      "For the base 3, height 4, Hypotenuse is \n"
     ]
    },
    {
     "data": {
      "text/plain": [
       "5.0"
      ]
     },
     "execution_count": 2,
     "metadata": {},
     "output_type": "execute_result"
    }
   ],
   "source": [
    "calculate_hypotenuse(3,4)"
   ]
  },
  {
   "cell_type": "code",
   "execution_count": 3,
   "metadata": {},
   "outputs": [
    {
     "name": "stdout",
     "output_type": "stream",
     "text": [
      "For the base 5, height 12, Hypotenuse is \n"
     ]
    },
    {
     "data": {
      "text/plain": [
       "13.0"
      ]
     },
     "execution_count": 3,
     "metadata": {},
     "output_type": "execute_result"
    }
   ],
   "source": [
    "calculate_hypotenuse(5,12)"
   ]
  },
  {
   "cell_type": "code",
   "execution_count": 4,
   "metadata": {},
   "outputs": [
    {
     "name": "stdout",
     "output_type": "stream",
     "text": [
      "For the base 0, height 0, Hypotenuse is \n"
     ]
    },
    {
     "data": {
      "text/plain": [
       "0.0"
      ]
     },
     "execution_count": 4,
     "metadata": {},
     "output_type": "execute_result"
    }
   ],
   "source": [
    "calculate_hypotenuse(0,0)"
   ]
  },
  {
   "cell_type": "markdown",
   "metadata": {},
   "source": [
    "## Find Distance 2D\n",
    "\n",
    "**Topic:** *Find Distance in 2D*\n",
    "\n",
    "### 🧠 Explanation:\n",
    "\n",
    "In everyday life, when we move from one place to another, we cover a certain *distance*. In math, especially in geometry, we often want to calculate the distance between two points on a flat surface (called a 2D plane).\n",
    "\n",
    "Each point on this plane can be represented by two numbers:\n",
    "\n",
    "* the **x-coordinate** (horizontal position)\n",
    "* the **y-coordinate** (vertical position)\n",
    "\n",
    "Come up with the formula to calculate the distance between two points $(x1, y1)$ and $(x2, y2)$ based on the **Pythagorean Theorem**, just like finding the hypotenuse of a right triangle.\n",
    "\n",
    "---\n",
    "\n",
    "### ✍️ Exercise:\n",
    "\n",
    "Write a function `find_distance_2d(x1, y1, x2, y2)` that returns the distance between the two points. Use the formula mentioned above. You can use the `math.sqrt` function to calculate the square root."
   ]
  },
  {
   "cell_type": "code",
   "execution_count": 18,
   "metadata": {},
   "outputs": [],
   "source": [
    "def find_distance_2d(x1,y1,x2,y2):\n",
    "    if (x2 >x1):\n",
    "        Horizontal_distance = (x2-x1)\n",
    "    else:\n",
    "        Horizontal_distance = (x1-x2)\n",
    "    if (y2 >y1):\n",
    "        vertical_distance = (y2-y1)\n",
    "    else:\n",
    "        vertical_distance = y1-y2\n",
    "    print(f\"Horizontal distance :{Horizontal_distance}, Vertical distance {vertical_distance} :\")\n",
    "    distance = (Horizontal_distance**2+vertical_distance**2)**0.5\n",
    "    print(f\"2d Distance between these points is: \")\n",
    "    return distance\n"
   ]
  },
  {
   "cell_type": "code",
   "execution_count": 19,
   "metadata": {},
   "outputs": [
    {
     "name": "stdout",
     "output_type": "stream",
     "text": [
      "Horizontal distance :3, Vertical distance 4 :\n",
      "2d Distance between these points is: \n"
     ]
    },
    {
     "data": {
      "text/plain": [
       "5.0"
      ]
     },
     "execution_count": 19,
     "metadata": {},
     "output_type": "execute_result"
    }
   ],
   "source": [
    "find_distance_2d(0,0,3,4)"
   ]
  },
  {
   "cell_type": "code",
   "execution_count": 20,
   "metadata": {},
   "outputs": [
    {
     "name": "stdout",
     "output_type": "stream",
     "text": [
      "Horizontal distance :3, Vertical distance 4 :\n",
      "2d Distance between these points is: \n"
     ]
    },
    {
     "data": {
      "text/plain": [
       "5.0"
      ]
     },
     "execution_count": 20,
     "metadata": {},
     "output_type": "execute_result"
    }
   ],
   "source": [
    "find_distance(1,2,4,6)"
   ]
  },
  {
   "cell_type": "code",
   "execution_count": null,
   "metadata": {},
   "outputs": [],
   "source": []
  }
 ],
 "metadata": {
  "kernelspec": {
   "display_name": "Python 3",
   "language": "python",
   "name": "python3"
  },
  "language_info": {
   "codemirror_mode": {
    "name": "ipython",
    "version": 3
   },
   "file_extension": ".py",
   "mimetype": "text/x-python",
   "name": "python",
   "nbconvert_exporter": "python",
   "pygments_lexer": "ipython3",
   "version": "3.6.8"
  },
  "toc": {
   "base_numbering": 1,
   "nav_menu": {},
   "number_sections": true,
   "sideBar": true,
   "skip_h1_title": false,
   "title_cell": "Table of Contents",
   "title_sidebar": "Contents",
   "toc_cell": false,
   "toc_position": {},
   "toc_section_display": true,
   "toc_window_display": false
  }
 },
 "nbformat": 4,
 "nbformat_minor": 2
}
